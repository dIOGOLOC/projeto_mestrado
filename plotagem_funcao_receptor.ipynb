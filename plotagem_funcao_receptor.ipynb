{
 "metadata": {
  "name": "",
  "signature": "sha256:09f091205ae027cc94115cca923dae6a7136a3fa72c25ebfbe31be2cf6f1a839"
 },
 "nbformat": 3,
 "nbformat_minor": 0,
 "worksheets": [
  {
   "cells": [
    {
     "cell_type": "markdown",
     "metadata": {},
     "source": [
      "<h1>Script para plotar as fun\u00e7\u00f5es do Receptor</h1>\n",
      "\n",
      "<h4>O principal m\u00f3dulo utilizado \u00e9 o obspy.\n",
      "M\u00f3dulos como glob, os e shutil s\u00e3o utilizados em algumas rotinas de busca e convers\u00e3o de dados. O m\u00f3dulo pyplot \u00e9 para plotar os dados e o m\u00f3dulos gridspec para configurar o grid do plot.</h4>"
     ]
    },
    {
     "cell_type": "markdown",
     "metadata": {},
     "source": [
      "<h3>Escolha da esta\u00e7\u00e3o para plotar das fun\u00e7\u00f5es do Receptor</h3>"
     ]
    },
    {
     "cell_type": "code",
     "collapsed": false,
     "input": [
      "STA = 'SLP01'"
     ],
     "language": "python",
     "metadata": {},
     "outputs": [],
     "prompt_number": 76
    },
    {
     "cell_type": "markdown",
     "metadata": {},
     "source": [
      "<h3>Procurando as fun\u00e7\u00f5es do Receptor nas pastas das esta\u00e7\u00f5es:</h3>"
     ]
    },
    {
     "cell_type": "code",
     "collapsed": false,
     "input": [
      "%pylab inline"
     ],
     "language": "python",
     "metadata": {},
     "outputs": [
      {
       "output_type": "stream",
       "stream": "stdout",
       "text": [
        "Populating the interactive namespace from numpy and matplotlib\n"
       ]
      }
     ],
     "prompt_number": 78
    },
    {
     "cell_type": "code",
     "collapsed": false,
     "input": [
      "from __future__ import print_function\n",
      "import numpy as np\n",
      "import matplotlib.pyplot as plt\n",
      "import obspy\n",
      "from obspy import Trace\n",
      "import glob\n",
      "import os\n",
      "import shutil\n",
      "import matplotlib.gridspec as gridspec\n",
      "from scipy import fftpack\n",
      "from scipy import signal"
     ],
     "language": "python",
     "metadata": {},
     "outputs": [],
     "prompt_number": 79
    },
    {
     "cell_type": "code",
     "collapsed": false,
     "input": [
      "RFdeconlist = []\n",
      "RFlist = []\n",
      "RFname = []\n",
      "for root, dirs, files in os.walk('/home/diogo/Processamento_subsal/process/'+STA+'/hkstack/'):\n",
      "    for RFfile in files:\n",
      "        if RFfile.endswith('.decon.sac'):\n",
      "            RFdeconlist.append(os.path.join(root, RFfile))"
     ],
     "language": "python",
     "metadata": {},
     "outputs": [],
     "prompt_number": 82
    },
    {
     "cell_type": "code",
     "collapsed": false,
     "input": [
      "RFdeconlist"
     ],
     "language": "python",
     "metadata": {},
     "outputs": [
      {
       "metadata": {},
       "output_type": "pyout",
       "prompt_number": 83,
       "text": [
        "['/home/diogo/Processamento_subsal/process/SLP01/hkstack/ON.SLP01.2012_05_14_10_00_40_230.decon.sac',\n",
        " '/home/diogo/Processamento_subsal/process/SLP01/hkstack/ON.SLP01.2013_08_13_15_43_15_190.decon.sac',\n",
        " '/home/diogo/Processamento_subsal/process/SLP01/hkstack/ON.SLP01.2013_04_02_14_34_55_090.decon.sac',\n",
        " '/home/diogo/Processamento_subsal/process/SLP01/hkstack/ON.SLP01.2013_05_10_19_56_04_150.decon.sac',\n",
        " '/home/diogo/Processamento_subsal/process/SLP01/hkstack/ON.SLP01.2012_01_21_18_47_11_560.decon.sac',\n",
        " '/home/diogo/Processamento_subsal/process/SLP01/hkstack/ON.SLP01.2013_09_25_16_42_43_800.decon.sac',\n",
        " '/home/diogo/Processamento_subsal/process/SLP01/hkstack/ON.SLP01.2013_02_09_14_16_07_880.decon.sac',\n",
        " '/home/diogo/Processamento_subsal/process/SLP01/hkstack/ON.SLP01.2012_03_20_18_02_47_440.decon.sac',\n",
        " '/home/diogo/Processamento_subsal/process/SLP01/hkstack/ON.SLP01.2012_01_23_16_04_52_980.decon.sac',\n",
        " '/home/diogo/Processamento_subsal/process/SLP01/hkstack/ON.SLP01.2013_12_17_12_30_00_300.decon.sac',\n",
        " '/home/diogo/Processamento_subsal/process/SLP01/hkstack/ON.SLP01.2012_07_02_23_31_37_910.decon.sac',\n",
        " '/home/diogo/Processamento_subsal/process/SLP01/hkstack/ON.SLP01.2012_03_25_22_37_06_000.decon.sac',\n",
        " '/home/diogo/Processamento_subsal/process/SLP01/hkstack/ON.SLP01.2012_01_30_05_11_00_950.decon.sac',\n",
        " '/home/diogo/Processamento_subsal/process/SLP01/hkstack/ON.SLP01.2012_01_24_16_31_07_790.decon.sac',\n",
        " '/home/diogo/Processamento_subsal/process/SLP01/hkstack/ON.SLP01.2012_06_07_04_05_04_520.decon.sac',\n",
        " '/home/diogo/Processamento_subsal/process/SLP01/hkstack/ON.SLP01.2012_01_15_13_40_16_400.decon.sac',\n",
        " '/home/diogo/Processamento_subsal/process/SLP01/hkstack/ON.SLP01.2013_05_16_05_57_00_710.decon.sac',\n",
        " '/home/diogo/Processamento_subsal/process/SLP01/hkstack/ON.SLP01.2012_11_21_21_36_22_740.decon.sac',\n",
        " '/home/diogo/Processamento_subsal/process/SLP01/hkstack/ON.SLP01.2013_07_15_14_03_39_880.decon.sac',\n",
        " '/home/diogo/Processamento_subsal/process/SLP01/hkstack/ON.SLP01.2013_01_30_20_15_43_340.decon.sac',\n",
        " '/home/diogo/Processamento_subsal/process/SLP01/hkstack/ON.SLP01.2012_04_17_03_50_15_610.decon.sac',\n",
        " '/home/diogo/Processamento_subsal/process/SLP01/hkstack/ON.SLP01.2012_06_29_15_31_46_660.decon.sac',\n",
        " '/home/diogo/Processamento_subsal/process/SLP01/hkstack/ON.SLP01.2012_04_14_10_56_19_380.decon.sac',\n",
        " '/home/diogo/Processamento_subsal/process/SLP01/hkstack/ON.SLP01.2012_04_02_17_36_42_060.decon.sac',\n",
        " '/home/diogo/Processamento_subsal/process/SLP01/hkstack/ON.SLP01.2012_11_07_16_35_46_930.decon.sac',\n",
        " '/home/diogo/Processamento_subsal/process/SLP01/hkstack/ON.SLP01.2012_06_07_16_03_18_900.decon.sac',\n",
        " '/home/diogo/Processamento_subsal/process/SLP01/hkstack/ON.SLP01.2013_06_15_17_34_27_810.decon.sac',\n",
        " '/home/diogo/Processamento_subsal/process/SLP01/hkstack/ON.SLP01.2012_12_27_00_37_08_830.decon.sac',\n",
        " '/home/diogo/Processamento_subsal/process/SLP01/hkstack/ON.SLP01.2012_11_14_19_02_06_120.decon.sac',\n",
        " '/home/diogo/Processamento_subsal/process/SLP01/hkstack/ON.SLP01.2012_01_17_23_21_35_040.decon.sac',\n",
        " '/home/diogo/Processamento_subsal/process/SLP01/hkstack/ON.SLP01.2012_05_01_22_43_33_340.decon.sac',\n",
        " '/home/diogo/Processamento_subsal/process/SLP01/hkstack/ON.SLP01.2012_10_08_01_50_26_210.decon.sac',\n",
        " '/home/diogo/Processamento_subsal/process/SLP01/hkstack/ON.SLP01.2013_08_23_08_34_06_920.decon.sac',\n",
        " '/home/diogo/Processamento_subsal/process/SLP01/hkstack/ON.SLP01.2012_05_19_08_35_10_700.decon.sac']"
       ]
      }
     ],
     "prompt_number": 83
    },
    {
     "cell_type": "markdown",
     "metadata": {},
     "source": [
      "<h3>Separando o nome de cada fun\u00e7\u00e3o do receptor e armazenando numa lista:</h3>"
     ]
    },
    {
     "cell_type": "code",
     "collapsed": false,
     "input": [
      "RFlist=[i.split('/home/diogo/Processamento_subsal/process/'+STA+'/hkstack/')[1] for i in RFdeconlist]"
     ],
     "language": "python",
     "metadata": {},
     "outputs": [],
     "prompt_number": 84
    },
    {
     "cell_type": "markdown",
     "metadata": {},
     "source": [
      "<h3>Copiando os arquivos para a pasta de trabalho:</h3>"
     ]
    },
    {
     "cell_type": "code",
     "collapsed": false,
     "input": [
      "for i,j in enumerate(RFlist):\n",
      "    shutil.copyfile(RFdeconlist[i],'/home/diogo/diogo_git/projeto_mestrado/' + j)"
     ],
     "language": "python",
     "metadata": {},
     "outputs": [],
     "prompt_number": 85
    },
    {
     "cell_type": "markdown",
     "metadata": {},
     "source": [
      "<h2>Tranformando as fun\u00e7\u00f5es do Receptor:(.sac to .asc)(.asc to .sac)</h2>\n",
      "\n",
      "H\u00e1 um problema na leitura dos arquivos .decon.sac. Um modo de resolver este tipo de problema \u00e9 a convers\u00e3o dos arquivos .decon.sac em .asc e depois a convers\u00e3o dos arquivos .asc em .sac para um melhor manipula\u00e7\u00e3o com o m\u00f3dulo obspy."
     ]
    },
    {
     "cell_type": "code",
     "collapsed": false,
     "input": [
      "RFname=[i.split('.decon.sac')[0] for i in RFlist]"
     ],
     "language": "python",
     "metadata": {},
     "outputs": [],
     "prompt_number": 86
    },
    {
     "cell_type": "code",
     "collapsed": false,
     "input": [
      "for i in RFname:\n",
      "    os.system('sactoasc ' + i+'.decon.sac ' + i +'.asc')\n",
      "    os.system('asctosac ' + i+'.asc ' + i +'.sac')\n",
      "    os.system('rm ' + i +'.decon.sac' )\n",
      "    os.system('rm ' + i +'.asc' )"
     ],
     "language": "python",
     "metadata": {},
     "outputs": [],
     "prompt_number": 87
    },
    {
     "cell_type": "markdown",
     "metadata": {},
     "source": [
      "<h2>Procurando e Tranformando a componente da deconvolu\u00e7\u00e3o transversal pela radial (.tdecon.sac):<h2>"
     ]
    },
    {
     "cell_type": "code",
     "collapsed": false,
     "input": [
      "tlist = []\n",
      "tlistdecon = []\n",
      "for root, dirs, tfiles in os.walk('/home/diogo/Processamento_subsal/process/'+STA+'/hkstack/'):\n",
      "    for tfile in tfiles:\n",
      "        for i in xrange(len(RFlist)):\n",
      "            if tfile.startswith(RFname[i] + '.tdecon.sac'):\n",
      "                tlist.append(os.path.join(root, tfile))"
     ],
     "language": "python",
     "metadata": {},
     "outputs": [],
     "prompt_number": 88
    },
    {
     "cell_type": "markdown",
     "metadata": {},
     "source": [
      "<h3>Separando o nome de cada arquivo e armazenando numa lista:</h3>"
     ]
    },
    {
     "cell_type": "code",
     "collapsed": false,
     "input": [
      "tlistdecon=[i.split('/decon/')[1] for i in tlist]"
     ],
     "language": "python",
     "metadata": {},
     "outputs": [],
     "prompt_number": 89
    },
    {
     "cell_type": "markdown",
     "metadata": {},
     "source": [
      "<h3>Copiando os arquivos .tdecon.sac para a pasta de trabalho:</h3>"
     ]
    },
    {
     "cell_type": "code",
     "collapsed": false,
     "input": [
      "for i,j in enumerate(tlistdecon):\n",
      "    shutil.copyfile(tlist[i],'/home/diogo/diogo_git/projeto_mestrado/' + j)"
     ],
     "language": "python",
     "metadata": {},
     "outputs": [],
     "prompt_number": 90
    },
    {
     "cell_type": "markdown",
     "metadata": {},
     "source": [
      "<h2>Tranformando a deconvolu\u00e7\u00e3o da componente transversal pela radial:(.sac to .asc)(.asc to .sac)</h2>\n"
     ]
    },
    {
     "cell_type": "code",
     "collapsed": false,
     "input": [
      "tname=[i.split('.tdecon.sac')[0] for i in tlistdecon]"
     ],
     "language": "python",
     "metadata": {},
     "outputs": [],
     "prompt_number": 91
    },
    {
     "cell_type": "code",
     "collapsed": false,
     "input": [
      "for k,i in enumerate(tname):\n",
      "    os.system('sactoasc ' + i +'.tdecon.sac ' + i +'t.asc')\n",
      "    os.system('asctosac ' + i +'t.asc ' + i +'t.sac')\n",
      "    os.system('rm ' + tlistdecon[k] )\n",
      "    os.system('rm ' + i +'t.asc' )"
     ],
     "language": "python",
     "metadata": {},
     "outputs": [],
     "prompt_number": 92
    },
    {
     "cell_type": "markdown",
     "metadata": {},
     "source": [
      "<h2>Importando os arquivos contendo os dados calculados segundo o IASP91</h2>\n",
      "\n",
      "Declarando as vari\u00e1veis:"
     ]
    },
    {
     "cell_type": "markdown",
     "metadata": {},
     "source": [
      "<h4>Tabela com os dados dos tempos de chegada te\u00f3ricos:</h4>\n"
     ]
    },
    {
     "cell_type": "code",
     "collapsed": false,
     "input": [
      "dados=np.genfromtxt('/home/diogo/Processamento_subsal/process/'+STA+'/hkstack/tPs_tPpPs_tPsPs_tPpSs_out.txt')[:,:]"
     ],
     "language": "python",
     "metadata": {},
     "outputs": [],
     "prompt_number": 93
    },
    {
     "cell_type": "markdown",
     "metadata": {},
     "source": [
      "<h4>Criando um dicion\u00e1rio para armazenar as vari\u00e1veis para os eventos:</h4>\n",
      "\n",
      "Calculando o linear stack(LS) e o Phase-weighted stack(PWS), <i> Schimmel and Paulssen (1997)</i>:"
     ]
    },
    {
     "cell_type": "code",
     "collapsed": false,
     "input": [
      "STdados = {'stR':[],'dataR':[],'stT':[],'dataT':[],'time':[],'orglist':[],'gcarc': [],'BAZ':[],'RP':[],\n",
      "           'ampli_min':[],'ampli_max':[],'tPpPs':[],'tPsPs':[],'data1024':[],'data1024_window':[],'phase':[],'phase_stack':[],'phase_window':[],'LS':[],'LS_window':[],'phase_stack_window':[],'PWS':[],'PWS_window':[],'stack_time':[]}"
     ],
     "language": "python",
     "metadata": {},
     "outputs": [],
     "prompt_number": 101
    },
    {
     "cell_type": "code",
     "collapsed": false,
     "input": [
      "STdados['stR'] = obspy.read('*.sac')\n",
      "#STdados['stR'].normalize()\n",
      "STdados['dataR'] = [i.data for i in STdados['stR']]\n",
      "#STdados['stT'] = obspy.read('*t.sac')\n",
      "#STdados['dataT'] = [i.data for i in STdados['stT']]\n",
      "STdados['timeR'] = [i.times() for i in STdados['stR']]\n",
      "#STdados['timeT'] = [i.times() for i in STdados['stT']]\n",
      "STdados['gcarc'] = [format(i.stats.sac.gcarc,'.0f') for i in STdados['stR']]\n",
      "STdados['BAZ'] = [format(i.stats.sac.baz,'.0f') for i in STdados['stR']]\n",
      "STdados['RP'] = [format(i.stats.sac.user8,'.5f') for i in STdados['stR']]\n",
      "STdados['orglist'] = np.argsort([i for i in STdados['RP']])\n",
      "STdados['tPs'] = np.array(dados[:,1])\n",
      "STdados['tPpPs'] = np.array(dados[:,2])\n",
      "STdados['tPsPs'] = np.array(dados[:,3])\n",
      "STdados['stack_time'] = np.resize(STdados['timeR'][0],(1024))\n",
      "for k,i in enumerate(STdados['dataR']):\n",
      "            STdados['data1024'].append(np.resize(i,(1024)))\n",
      "window = signal.triang(1024)\n",
      "STdados['data1024_window'] = STdados['data1024']*window\n",
      "STdados['LS'] = (np.array(STdados['data1024']).sum(axis=0)/len(STdados['data1024']))\n",
      "STdados['phase'] = np.array([(fftpack.dct(i)) for i in STdados['data1024']])\n",
      "STdados['phase'] = phase=np.array([np.arctan(np.real(i)/np.imag(i)) for i in STdados['data1024']])\n",
      "STdados['phase_stack'] = np.array((STdados['phase']).sum(axis=0)/len(STdados['phase']))\n",
      "STdados['PWS']= STdados['LS']*(np.power(STdados['phase_stack'],2))\n",
      "STdados['LS_window'] = (np.array(STdados['data1024_window']).sum(axis=0)/len(STdados['data1024_window']))\n",
      "STdados['phase_window'] = np.array([(fftpack.dct(i)) for i in STdados['data1024_window']])\n",
      "STdados['phase_window'] = phase=np.array([np.arctan(np.real(i)/np.imag(i)) for i in STdados['data1024_window']])\n",
      "STdados['phase_stack_window'] = np.array((STdados['phase_window']).sum(axis=0)/len(STdados['phase']))\n",
      "STdados['PWS_window']= STdados['LS_window']*(np.power(STdados['phase_stack_window'],2))\n",
      "for i in xrange(len(STdados['stR'])):\n",
      "    STdados['ampli_min'].append(min(STdados['dataR'][i]))\n",
      "for i in xrange(len(STdados['stR'])):\n",
      "    STdados['ampli_max'].append(max(STdados['dataR'][i]))"
     ],
     "language": "python",
     "metadata": {},
     "outputs": [],
     "prompt_number": 102
    },
    {
     "cell_type": "code",
     "collapsed": false,
     "input": [
      "plt.fill(STdados['stack_time'],STdados['LS_window'],'k')\n",
      "plt.xticks([])\n",
      "plt.yticks([])\n",
      "plt.show()\n",
      "plt.fill(STdados['stack_time'],STdados['LS'],'k')\n",
      "plt.xticks([])\n",
      "plt.yticks([])"
     ],
     "language": "python",
     "metadata": {},
     "outputs": [
      {
       "metadata": {},
       "output_type": "display_data",
       "png": "[encoded data removed]",
       "text": [
        "<matplotlib.figure.Figure at 0x45fb6d0>"
       ]
      },
      {
       "metadata": {},
       "output_type": "pyout",
       "prompt_number": 103,
       "text": [
        "([], <a list of 0 Text yticklabel objects>)"
       ]
      },
      {
       "metadata": {},
       "output_type": "display_data",
       "png": "[encoded data removed]",
       "text": [
        "<matplotlib.figure.Figure at 0x4601550>"
       ]
      }
     ],
     "prompt_number": 103
    },
    {
     "cell_type": "code",
     "collapsed": false,
     "input": [
      "gs = gridspec.GridSpec(2,2)\n",
      "ax1 = plt.subplot(gs[0])\n",
      "ax2 = plt.subplot(gs[1])\n",
      "ax3 = plt.subplot(gs[2])\n",
      "ax4 = plt.subplot(gs[3])\n",
      "\n",
      "\n",
      "ax1.plot(STdados['stack_time'],STdados['LS'],'k')\n",
      "ax1.set_xlim([0,25])\n",
      "#ax1.set_ylim([-0.5,2])\n",
      "ax2.plot(STdados['stack_time'],STdados['PWS'],'k')\n",
      "ax2.set_xlim([0,25])\n",
      "#ax2.set_ylim([-0.5,2])\n",
      "ax3.plot(STdados['stack_time'],STdados['LS_window'],'k')\n",
      "ax3.set_xlim([0,25])\n",
      "#ax3.set_ylim([-0.5,1])\n",
      "ax4.plot(STdados['stack_time'],STdados['PWS_window'],'k')\n",
      "ax4.set_xlim([0,25])\n",
      "#ax4.set_ylim([-0.5,1])"
     ],
     "language": "python",
     "metadata": {},
     "outputs": [
      {
       "metadata": {},
       "output_type": "pyout",
       "prompt_number": 109,
       "text": [
        "(0, 25)"
       ]
      },
      {
       "metadata": {},
       "output_type": "display_data",
       "png": "[encoded data removed]",
       "text": [
        "<matplotlib.figure.Figure at 0x5803e90>"
       ]
      }
     ],
     "prompt_number": 109
    },
    {
     "cell_type": "markdown",
     "metadata": {},
     "source": [
      "<h2>Separando as fun\u00e7\u00f5es do receptor em grupos de acordo com o back-azimute</h2>"
     ]
    },
    {
     "cell_type": "markdown",
     "metadata": {},
     "source": [
      "<h4>Criando um dicion\u00e1rio para armazenar as vari\u00e1veis para os diferentes grupos de eventos:</h4>"
     ]
    },
    {
     "cell_type": "code",
     "collapsed": false,
     "input": [
      "RFdados = {'NE':{'lista':[],'sacR':[],'sacT':[],'orglist':[],'BAZ':[],'gcarc':[],'RP':[],'timeR':[],'dataR':[],'timeT':[],'dataT':[],'data1024R':[],'data1024T':[],'stack_time':[],'LS':[],'LS_window':[],'data1024R_window':[],'phase':[],'phase_stack':[],'PWS':[],'phase_window':[],'phase_stack_window':[],'PWS_window':[],'ampli_min':[],'ampli_max':[]},\n",
      "           'SE':{'lista':[],'sacR':[],'sacT':[],'orglist':[],'BAZ':[],'gcarc':[],'RP':[],'timeR':[],'dataR':[],'timeT':[],'dataT':[],'data1024R':[],'data1024T':[],'stack_time':[],'LS':[],'LS_window':[],'data1024R_window':[],'phase':[],'phase_stack':[],'PWS':[],'phase_window':[],'phase_stack_window':[],'PWS_window':[],'ampli_min':[],'ampli_max':[]},\n",
      "           'SW':{'lista':[],'sacR':[],'sacT':[],'orglist':[],'BAZ':[],'gcarc':[],'RP':[],'timeR':[],'dataR':[],'timeT':[],'dataT':[],'data1024R':[],'data1024T':[],'stack_time':[],'LS':[],'LS_window':[],'data1024R_window':[],'phase':[],'phase_stack':[],'PWS':[],'phase_window':[],'phase_stack_window':[],'PWS_window':[],'ampli_min':[],'ampli_max':[]},\n",
      "           'NW':{'lista':[],'sacR':[],'sacT':[],'orglist':[],'BAZ':[],'gcarc':[],'RP':[],'timeR':[],'dataR':[],'timeT':[],'dataT':[],'data1024R':[],'data1024T':[],'stack_time':[],'LS':[],'LS_window':[],'data1024R_window':[],'phase':[],'phase_stack':[],'PWS':[],'phase_window':[],'phase_stack_window':[],'PWS_window':[],'ampli_min':[],'ampli_max':[]}}"
     ],
     "language": "python",
     "metadata": {},
     "outputs": []
    },
    {
     "cell_type": "code",
     "collapsed": false,
     "input": [
      "STRlist = [] \n",
      "for root, dirs, files in os.walk('/home/diogo/diogo_git/projeto_mestrado/'):\n",
      "    for STRfile in files:\n",
      "        if STRfile.endswith('0.sac'):\n",
      "            STRlist.append(os.path.join(STRfile))\n",
      "STRlist=sort(STRlist)\n",
      "\n",
      "STTlist = [] \n",
      "for root, dirs, files in os.walk('/home/diogo/diogo_git/projeto_mestrado/'):\n",
      "    for STTfile in files:\n",
      "        if STTfile.endswith('0t.sac'):\n",
      "            STTlist.append(os.path.join(STTfile))\n",
      "STTlist=sort(STTlist)"
     ],
     "language": "python",
     "metadata": {},
     "outputs": []
    },
    {
     "cell_type": "markdown",
     "metadata": {},
     "source": [
      "<h4>Separando as fun\u00e7\u00f5es do receptor em grupos de acordo com o quadrante do back-azimute</h4>"
     ]
    },
    {
     "cell_type": "code",
     "collapsed": false,
     "input": [
      "for i,j in enumerate(STRlist):\n",
      "    if np.array(STdados['BAZ'],dtype=float)[i] <= 90:\n",
      "        shutil.copyfile(j,'/home/diogo/diogo_git/projeto_mestrado/NE' + j)\n",
      "        RFdados['NE']['lista'] = j\n",
      "    elif np.array(STdados['BAZ'],dtype=float)[i] <= 180:\n",
      "        shutil.copyfile(j,'/home/diogo/diogo_git/projeto_mestrado/SE' + j)\n",
      "        RFdados['SE']['lista'] = j\n",
      "    elif np.array(STdados['BAZ'],dtype=float)[i] <= 270:\n",
      "        shutil.copyfile(j,'/home/diogo/diogo_git/projeto_mestrado/SW' + j)\n",
      "        RFdados['SW']['lista'] = j\n",
      "    elif np.array(STdados['BAZ'],dtype=float)[i] <= 360:\n",
      "        shutil.copyfile(j,'/home/diogo/diogo_git/projeto_mestrado/NW' + j)\n",
      "        RFdados['NW']['lista'] = j\n",
      "        \n",
      "for i,j in enumerate(STTlist):\n",
      "    if np.array(STdados['BAZ'],dtype=float)[i] <= 90:\n",
      "        shutil.copyfile(j,'/home/diogo/diogo_git/projeto_mestrado/NE' + j)\n",
      "    elif np.array(STdados['BAZ'],dtype=float)[i] <= 180:\n",
      "        shutil.copyfile(j,'/home/diogo/diogo_git/projeto_mestrado/SE' + j)\n",
      "    elif np.array(STdados['BAZ'],dtype=float)[i] <= 270:\n",
      "        shutil.copyfile(j,'/home/diogo/diogo_git/projeto_mestrado/SW' + j)\n",
      "    elif np.array(STdados['BAZ'],dtype=float)[i] <= 360:\n",
      "        shutil.copyfile(j,'/home/diogo/diogo_git/projeto_mestrado/NW' + j)"
     ],
     "language": "python",
     "metadata": {},
     "outputs": []
    },
    {
     "cell_type": "markdown",
     "metadata": {},
     "source": [
      "<h4>Salvando as vari\u00e1veis para o plot das fun\u00e7\u00f5es do Receptor:</h4>"
     ]
    },
    {
     "cell_type": "code",
     "collapsed": false,
     "input": [
      "def dic_var(quad):\n",
      "    if RFdados[quad]['lista'] != []:\n",
      "        RFdados[quad]['sacR'] = obspy.read(quad+'*0.sac')\n",
      "        RFdados[quad]['sacR'].normalize()\n",
      "        #RFdados[quad]['sacT'] = obspy.read(quad+'*0t.sac')\n",
      "        RFdados[quad]['orglist'] = np.argsort([i.stats.sac.baz for i in RFdados[quad]['sacR']])\n",
      "        RFdados[quad]['BAZ'] = [format(RFdados[quad]['sacR'][i].stats.sac.baz,'.0f') for i in xrange(size(RFdados[quad]['sacR'],0))]\n",
      "        RFdados[quad]['gcarc'] = [format(RFdados[quad]['sacR'][i].stats.sac.gcarc,'.0f') for i in xrange(size(RFdados[quad]['sacR'],0))]\n",
      "        RFdados[quad]['RP'] = [format(RFdados[quad]['sacR'][i].stats.sac.user8,'.5f') for i in xrange(size(RFdados[quad]['sacR'],0))]\n",
      "        RFdados[quad]['timeR'] = [RFdados[quad]['sacR'][i].times() for i in RFdados[quad]['orglist']]\n",
      "        RFdados[quad]['dataR'] = [RFdados[quad]['sacR'][i].data for i in RFdados[quad]['orglist']]\n",
      "        #RFdados[quad]['timeT'] = [RFdados[quad]['sacT'][i].times() for i in RFdados[quad]['orglist']]\n",
      "        #RFdados[quad]['dataT'] = [RFdados[quad]['sacT'][i].data for i in RFdados[quad]['orglist']]\n",
      "        RFdados[quad]['stack_time'] = np.resize(RFdados[quad]['timeR'][0],(1024))\n",
      "        for k,i in enumerate(RFdados[quad]['dataR']):\n",
      "            RFdados[quad]['data1024R'].append(np.resize(i,(1024)))\n",
      "        window = signal.triang(1024)\n",
      "        RFdados[quad]['data1024R_window'] = RFdados[quad]['data1024R']*window\n",
      "        RFdados[quad]['LS'] = (np.array(RFdados[quad]['data1024R']).sum(axis=0)/len(RFdados[quad]['data1024R']))\n",
      "        RFdados[quad]['phase'] = np.array([(fftpack.dct(i)) for i in RFdados[quad]['data1024R']])\n",
      "        RFdados[quad]['phase'] = phase=np.array([np.arctan(np.real(i)/np.imag(i)) for i in RFdados[quad]['data1024R']])\n",
      "        RFdados[quad]['phase_stack'] = np.array((RFdados[quad]['phase']).sum(axis=0)/len(RFdados[quad]['phase']))\n",
      "        RFdados[quad]['PWS']= RFdados[quad]['LS']*(np.power(RFdados[quad]['phase_stack'],2))\n",
      "        RFdados[quad]['LS_window'] = (np.array(RFdados[quad]['data1024R_window']).sum(axis=0)/len(RFdados[quad]['data1024R_window']))\n",
      "        RFdados[quad]['phase_window'] = np.array([(fftpack.dct(i)) for i in RFdados[quad]['data1024R_window']])\n",
      "        RFdados[quad]['phase_window'] = phase=np.array([np.arctan(np.real(i)/np.imag(i)) for i in RFdados[quad]['data1024R_window']])\n",
      "        RFdados[quad]['phase_stack_window'] = np.array((RFdados[quad]['phase_window']).sum(axis=0)/len(RFdados[quad]['phase']))\n",
      "        RFdados[quad]['PWS_window']= RFdados[quad]['LS_window']*(np.power(RFdados[quad]['phase_stack_window'],2))\n",
      "        #for k,i in enumerate(RFdados[quad]['dataT']):\n",
      "            #RFdados[quad]['data1024T'].append(np.resize(i,(1024)))\n",
      "        for i in xrange(len(RFdados[quad]['sacR'])):\n",
      "            RFdados[quad]['ampli_min'].append(min(RFdados[quad]['sacR'][i]))\n",
      "        for i in xrange(len(RFdados[quad]['sacR'])):\n",
      "            RFdados[quad]['ampli_max'].append(max(RFdados[quad]['sacR'][i]))"
     ],
     "language": "python",
     "metadata": {},
     "outputs": []
    },
    {
     "cell_type": "code",
     "collapsed": false,
     "input": [
      "dic_var('NE')\n",
      "dic_var('SE')\n",
      "dic_var('SW')\n",
      "dic_var('NW')"
     ],
     "language": "python",
     "metadata": {},
     "outputs": []
    },
    {
     "cell_type": "markdown",
     "metadata": {},
     "source": [
      "<h2>Plotando as fun\u00e7\u00f5es do Receptor para cada grupo de eventos</h2>"
     ]
    },
    {
     "cell_type": "code",
     "collapsed": false,
     "input": [
      "def plot_receptor(lista,orglist,timeR,dataR,tPs,tPpPs,tPsPs,ampli_min,ampli_max,gcarc,BAZ,sacR,stack_time,LS,LS_window,PWS,PWS_window,quad):\n",
      "    if lista != []:\n",
      "        plt.figure(figsize = (15,8))\n",
      "        gs = gridspec.GridSpec(3,2,height_ratios=[8,1,1,1])\n",
      "        plt.subplot(gs[0, :])\n",
      "        for k, i in enumerate(orglist): \n",
      "            plt.plot(timeR[i]-5,k+dataR[i],'k',linewidth=1)\n",
      "            #plt.plot(timeT[i]-5,k+dataT[i],'r',linewidth=1)\n",
      "            plt.plot([tPs[i],tPs[i]],[k+ampli_min[i],k+ampli_max[i]],'--r')\n",
      "            plt.plot([tPpPs[i],tPpPs[i]],[k+ampli_min[i],k+ampli_max[i]],'--r')\n",
      "            plt.plot([tPsPs[i],tPsPs[i]],[k+ampli_min[i],k+ampli_max[i]],'--r')\n",
      "            plt.text(25.5,k+0.2,'D = %s' % (gcarc[i]),fontsize=12)\n",
      "            plt.text(25.5,k-0.2,'BAZ = %s' % (BAZ[i]),fontsize=12)\n",
      "            plt.fill_between(timeR[i]-5,k+dataR[i],k,where=(k+dataR[i])>=k, facecolor='blue', interpolate=True)\n",
      "            plt.fill_between(timeR[i]-5,k+dataR[i],k,where=(k+dataR[i])<=k, facecolor='red', interpolate=True)\n",
      "            plt.yticks([])\n",
      "            plt.title('Funcoes do Receptor - Grupo '+quad)\n",
      "            plt.xlim(-4.9,25)\n",
      "            plt.ylim(-1,len(sacR))\n",
      "        plt.subplot(gs[-2,-2])\n",
      "        plt.plot(stack_time-5,LS,'k',linewidth=1)\n",
      "        plt.fill_between(stack_time-5,LS,0,where=LS>=0, facecolor='blue', interpolate=True)\n",
      "        plt.fill_between(stack_time-5,LS,0,where=LS<=0, facecolor='red', interpolate=True)\n",
      "        plt.title('Linear Stacking',fontsize=12)\n",
      "        plt.yticks([])\n",
      "        plt.xlim(-4.9,20)\n",
      "        plt.subplot(gs[-2,-1])\n",
      "        plt.plot(stack_time-5,LS_window,'k',linewidth=1)\n",
      "        plt.fill_between(stack_time-5,LS_window,0,where=LS_window>=0, facecolor='blue', interpolate=True)\n",
      "        plt.fill_between(stack_time-5,LS_window,0,where=LS_window<=0, facecolor='red', interpolate=True)\n",
      "        plt.title('Linear Stacking - Window Function ',fontsize=12)\n",
      "        plt.yticks([])\n",
      "        plt.xlim(-4.9,20)\n",
      "        plt.subplot(gs[-1,-2])\n",
      "        plt.plot(stack_time-5,PWS,'k',linewidth=1)\n",
      "        plt.fill_between(stack_time-5,PWS,0,where=PWS>=0, facecolor='blue', interpolate=True)\n",
      "        plt.fill_between(stack_time-5,PWS,0,where=PWS<=0, facecolor='red', interpolate=True)\n",
      "        plt.title('Phase-Weighted Stacking',fontsize=12)\n",
      "        plt.yticks([])\n",
      "        plt.xlim(-4.9,20)\n",
      "        plt.subplot(gs[-1,-1])\n",
      "        plt.plot(stack_time-5,PWS_window,'k',linewidth=1)\n",
      "        plt.fill_between(stack_time-5,PWS_window,0,where=PWS_window>=0, facecolor='blue', interpolate=True)\n",
      "        plt.fill_between(stack_time-5,PWS_window,0,where=PWS_window<=0, facecolor='red', interpolate=True)\n",
      "        plt.title('Phase-Weighted Stacking - Window Function',fontsize=12)\n",
      "        plt.yticks([])\n",
      "        plt.xlim(-4.9,20)\n",
      "        plt.savefig('Fun\u00e7\u00f5es do Receptor e Empilhamento - '+quad+' - '+STA+'.png',dpi=600)"
     ],
     "language": "python",
     "metadata": {},
     "outputs": []
    },
    {
     "cell_type": "code",
     "collapsed": false,
     "input": [
      "def plot_receptor(lista,orglist,timeR,dataR,tPs,tPpPs,tPsPs,ampli_min,ampli_max,gcarc,BAZ,sacR,stack_time,LS,LS_window,PWS,PWS_window,quad):\n",
      "    if lista != []:\n",
      "        plt.figure(figsize = (15,8))\n",
      "        gs = gridspec.GridSpec(5,1,width_ratios=[1], height_ratios=[8,1,1,1,1],hspace=0.5)\n",
      "        plt.subplot(gs[0])\n",
      "        for k, i in enumerate(orglist): \n",
      "            plt.plot(timeR[i]-5,k+dataR[i],'k',linewidth=1)\n",
      "            #plt.plot(timeT[i]-5,k+dataT[i],'r',linewidth=1)\n",
      "            plt.plot([tPs[i],tPs[i]],[k+ampli_min[i],k+ampli_max[i]],'--r')\n",
      "            plt.plot([tPpPs[i],tPpPs[i]],[k+ampli_min[i],k+ampli_max[i]],'--r')\n",
      "            plt.plot([tPsPs[i],tPsPs[i]],[k+ampli_min[i],k+ampli_max[i]],'--r')\n",
      "            plt.text(25.5,k+0.2,'D = %s' % (gcarc[i]),fontsize=12)\n",
      "            plt.text(25.5,k-0.2,'BAZ = %s' % (BAZ[i]),fontsize=12)\n",
      "            plt.fill_between(timeR[i]-5,k+dataR[i],k,where=(k+dataR[i])>=k, facecolor='blue', interpolate=True)\n",
      "            plt.fill_between(timeR[i]-5,k+dataR[i],k,where=(k+dataR[i])<=k, facecolor='red', interpolate=True)\n",
      "            plt.yticks([])\n",
      "            plt.title('Funcoes do Receptor - Grupo '+quad)\n",
      "            plt.xlim(-4.9,25)\n",
      "            plt.ylim(-1,len(sacR))\n",
      "        plt.subplot(gs[1])\n",
      "        plt.plot(stack_time-5,LS,'k',linewidth=1)\n",
      "        plt.fill_between(stack_time-5,LS,0,where=LS>=0, facecolor='blue', interpolate=True)\n",
      "        plt.fill_between(stack_time-5,LS,0,where=LS<=0, facecolor='red', interpolate=True)\n",
      "        plt.title('Linear Stacking',fontsize=12)\n",
      "        plt.yticks([])\n",
      "        plt.xlim(-4.9,20)\n",
      "        plt.subplot(gs[2])\n",
      "        plt.plot(stack_time-5,LS_window,'k',linewidth=1)\n",
      "        plt.fill_between(stack_time-5,LS_window,0,where=LS_window>=0, facecolor='blue', interpolate=True)\n",
      "        plt.fill_between(stack_time-5,LS_window,0,where=LS_window<=0, facecolor='red', interpolate=True)\n",
      "        plt.title('Linear Stacking - Window Function ',fontsize=12)\n",
      "        plt.yticks([])\n",
      "        plt.xlim(-4.9,20)\n",
      "        plt.subplot(gs[3])\n",
      "        plt.plot(stack_time-5,PWS,'k',linewidth=1)\n",
      "        plt.fill_between(stack_time-5,PWS,0,where=PWS>=0, facecolor='blue', interpolate=True)\n",
      "        plt.fill_between(stack_time-5,PWS,0,where=PWS<=0, facecolor='red', interpolate=True)\n",
      "        plt.title('Phase-Weighted Stacking',fontsize=12)\n",
      "        plt.yticks([])\n",
      "        plt.xlim(-4.9,20)\n",
      "        plt.subplot(gs[4])\n",
      "        plt.plot(stack_time-5,PWS_window,'k',linewidth=1)\n",
      "        plt.fill_between(stack_time-5,PWS_window,0,where=PWS_window>=0, facecolor='blue', interpolate=True)\n",
      "        plt.fill_between(stack_time-5,PWS_window,0,where=PWS_window<=0, facecolor='red', interpolate=True)\n",
      "        plt.title('Phase-Weighted Stacking - Window Function',fontsize=12)\n",
      "        plt.yticks([])\n",
      "        plt.xlim(-4.9,20)\n",
      "        plt.savefig('Fun\u00e7\u00f5es do Receptor e Empilhamento - '+quad+' - '+STA+'.png',dpi=1000)"
     ],
     "language": "python",
     "metadata": {},
     "outputs": []
    },
    {
     "cell_type": "markdown",
     "metadata": {},
     "source": [
      "<h3> RF Grupo NE</h3>"
     ]
    },
    {
     "cell_type": "code",
     "collapsed": false,
     "input": [
      "plot_receptor(RFdados['NE']['lista'],RFdados['NE']['orglist'],RFdados['NE']['timeR'],RFdados['NE']['dataR'],STdados['tPs'],STdados['tPpPs'],STdados['tPsPs'],RFdados['NE']['ampli_min'],RFdados['NE']['ampli_max'],RFdados['NE']['gcarc'],RFdados['NE']['BAZ'],RFdados['NE']['sacR'],RFdados['NE']['stack_time'],RFdados['NE']['LS'],RFdados['NE']['LS_window'],RFdados['NE']['PWS'],RFdados['NE']['PWS_window'],'NE')"
     ],
     "language": "python",
     "metadata": {},
     "outputs": []
    },
    {
     "cell_type": "markdown",
     "metadata": {},
     "source": [
      "<h3>RF Grupo SE</h3>"
     ]
    },
    {
     "cell_type": "code",
     "collapsed": false,
     "input": [
      "plot_receptor(RFdados['SE']['lista'],RFdados['SE']['orglist'],RFdados['SE']['timeR'],RFdados['SE']['dataR'],STdados['tPs'],STdados['tPpPs'],STdados['tPsPs'],RFdados['SE']['ampli_min'],RFdados['SE']['ampli_max'],RFdados['SE']['gcarc'],RFdados['SE']['BAZ'],RFdados['SE']['sacR'],RFdados['SE']['stack_time'],RFdados['SE']['LS'],RFdados['SE']['LS_window'],RFdados['SE']['PWS'],RFdados['SE']['PWS_window'],'SE')"
     ],
     "language": "python",
     "metadata": {},
     "outputs": []
    },
    {
     "cell_type": "markdown",
     "metadata": {},
     "source": [
      "<h3>RF Grupo SW</h3>"
     ]
    },
    {
     "cell_type": "code",
     "collapsed": false,
     "input": [
      "plot_receptor(RFdados['SW']['lista'],RFdados['SW']['orglist'],RFdados['SW']['timeR'],RFdados['SW']['dataR'],STdados['tPs'],STdados['tPpPs'],STdados['tPsPs'],RFdados['SW']['ampli_min'],RFdados['SW']['ampli_max'],RFdados['SW']['gcarc'],RFdados['SW']['BAZ'],RFdados['SW']['sacR'],RFdados['SW']['stack_time'],RFdados['SW']['LS'],RFdados['SW']['LS_window'],RFdados['SW']['PWS'],RFdados['SW']['PWS_window'],'SW')"
     ],
     "language": "python",
     "metadata": {},
     "outputs": []
    },
    {
     "cell_type": "markdown",
     "metadata": {},
     "source": [
      "<h3>RF Grupo NW</h3>"
     ]
    },
    {
     "cell_type": "code",
     "collapsed": false,
     "input": [
      "plot_receptor(RFdados['NW']['lista'],RFdados['NW']['orglist'],RFdados['NW']['timeR'],RFdados['NW']['dataR'],STdados['tPs'],STdados['tPpPs'],STdados['tPsPs'],RFdados['NW']['ampli_min'],RFdados['NW']['ampli_max'],RFdados['NW']['gcarc'],RFdados['NW']['BAZ'],RFdados['NW']['sacR'],RFdados['NW']['stack_time'],RFdados['NW']['LS'],RFdados['NW']['LS_window'],RFdados['NW']['PWS'],RFdados['NW']['PWS_window'],'NW')"
     ],
     "language": "python",
     "metadata": {},
     "outputs": []
    },
    {
     "cell_type": "markdown",
     "metadata": {},
     "source": [
      "<h2>Plotando as fun\u00e7\u00f5es do Receptor de acordo com o tamanho do Par\u00e2metro do Raio</h2>"
     ]
    },
    {
     "cell_type": "code",
     "collapsed": false,
     "input": [
      "def plot_RP(orglist,timeR,dataR,tPs,tPpPs,tPsPs,ampli_min,ampli_max,RP,stack_time,LS,LS_window,PWS,PWS_window):\n",
      "    plt.figure(figsize = (40,32))\n",
      "    gs = gridspec.GridSpec(3,2,height_ratios=[8,1,1,1])\n",
      "    plt.subplot(gs[0, :])\n",
      "    for k, i in enumerate(orglist):\n",
      "        #plt.plot(timeT[i]-5,k+dataT[i],'k',linewidth=1.5)\n",
      "        plt.plot(timeR[i]-5,k+dataR[i],'k',linewidth=1)\n",
      "        plt.plot([tPs[i],tPs[i]],[k+ampli_min[i],k+ampli_max[i]],'--r')\n",
      "        plt.plot([tPpPs[i],tPpPs[i]],[k+ampli_min[i],k+ampli_max[i]],'--r')\n",
      "        plt.plot([tPsPs[i],tPsPs[i]],[k+ampli_min[i],k+ampli_max[i]],'--r')\n",
      "        plt.text(25.5, k,'RP = %s' % (RP[i]),fontsize=8)\n",
      "        plt.fill_between(timeR[i]-5,k+dataR[i],k,where=k+dataR[i]<=k, facecolor='red', interpolate=True)\n",
      "        plt.fill_between(timeR[i]-5,k+dataR[i],k,where=k+dataR[i]>=k, facecolor='blue', interpolate=True)\n",
      "        plt.xlabel('Delay Time After P(s)')\n",
      "        plt.yticks([])\n",
      "        plt.title('Funcoes do Receptor de acordo com o Parametro do Raio')\n",
      "        plt.xlim(-4.9,25)\n",
      "        plt.ylim(-0.5,len(orglist)+0.5)\n",
      "    plt.subplot(gs[-2,-2])\n",
      "    plt.plot(stack_time-5,LS,'k',linewidth=1)\n",
      "    plt.fill_between(stack_time-5,LS,0,where=LS>=0, facecolor='blue', interpolate=True)\n",
      "    plt.fill_between(stack_time-5,LS,0,where=LS<=0, facecolor='red', interpolate=True)\n",
      "    plt.title('Linear Stacking',fontsize=12)\n",
      "    plt.yticks([])\n",
      "    plt.xlim(-4.9,20)\n",
      "    plt.subplot(gs[-2,-1])\n",
      "    plt.plot(stack_time-5,LS_window,'k',linewidth=1)\n",
      "    plt.fill_between(stack_time-5,LS_window,0,where=LS_window>=0, facecolor='blue', interpolate=True)\n",
      "    plt.fill_between(stack_time-5,LS_window,0,where=LS_window<=0, facecolor='red', interpolate=True)\n",
      "    plt.title('Linear Stacking - Window Function ',fontsize=12)\n",
      "    plt.yticks([])\n",
      "    plt.xlim(-4.9,20)\n",
      "    plt.subplot(gs[-1,-2])\n",
      "    plt.plot(stack_time-5,PWS,'k',linewidth=1)\n",
      "    plt.fill_between(stack_time-5,PWS,0,where=PWS>=0, facecolor='blue', interpolate=True)\n",
      "    plt.fill_between(stack_time-5,PWS,0,where=PWS<=0, facecolor='red', interpolate=True)\n",
      "    plt.title('Phase-Weighted Stacking',fontsize=12)\n",
      "    #plt.yticks([])\n",
      "    plt.xlim(-4.9,20)\n",
      "    plt.subplot(gs[-1,-1])\n",
      "    plt.plot(stack_time-5,PWS_window,'k',linewidth=1)\n",
      "    plt.fill_between(stack_time-5,PWS_window,0,where=PWS_window>=0, facecolor='blue', interpolate=True)\n",
      "    plt.fill_between(stack_time-5,PWS_window,0,where=PWS_window<=0, facecolor='red', interpolate=True)\n",
      "    plt.title('Phase-Weighted Stacking - Window Function',fontsize=12)\n",
      "    #plt.yticks([])\n",
      "    plt.xlim(-4.9,20)\n",
      "    plt.savefig('Fun\u00e7\u00f5es do Receptor e Empilhamento- '+STA+'.png',dpi=300)"
     ],
     "language": "python",
     "metadata": {},
     "outputs": []
    },
    {
     "cell_type": "code",
     "collapsed": false,
     "input": [
      "def plot_RP(orglist,timeR,dataR,tPs,tPpPs,tPsPs,ampli_min,ampli_max,RP,stack_time,LS,LS_window,PWS,PWS_window):\n",
      "    plt.figure(figsize = (40,32))\n",
      "    gs = gridspec.GridSpec(5,1,width_ratios=[1], height_ratios=[8,1,1,1,1],hspace=0.5)\n",
      "    plt.subplot(gs[0])\n",
      "    for k, i in enumerate(orglist):\n",
      "        #plt.plot(timeT[i]-5,k+dataT[i],'k',linewidth=1.5)\n",
      "        plt.plot(timeR[i]-5,k+dataR[i],'k',linewidth=1)\n",
      "        plt.plot([tPs[i],tPs[i]],[k+ampli_min[i],k+ampli_max[i]],'--r')\n",
      "        plt.plot([tPpPs[i],tPpPs[i]],[k+ampli_min[i],k+ampli_max[i]],'--r')\n",
      "        plt.plot([tPsPs[i],tPsPs[i]],[k+ampli_min[i],k+ampli_max[i]],'--r')\n",
      "        plt.text(25.5, k,'RP = %s' % (RP[i]),fontsize=8)\n",
      "        plt.fill_between(timeR[i]-5,k+dataR[i],k,where=k+dataR[i]<=k, facecolor='red', interpolate=True)\n",
      "        plt.fill_between(timeR[i]-5,k+dataR[i],k,where=k+dataR[i]>=k, facecolor='blue', interpolate=True)\n",
      "        plt.xlabel('Delay Time After P(s)')\n",
      "        plt.yticks([])\n",
      "        plt.title('Funcoes do Receptor de acordo com o Parametro do Raio')\n",
      "        plt.xlim(-4.9,25)\n",
      "        plt.ylim(-0.5,len(orglist)+0.5)\n",
      "    plt.subplot(gs[1])\n",
      "    plt.plot(stack_time-5,LS,'k',linewidth=1)\n",
      "    plt.fill_between(stack_time-5,LS,0,where=LS>=0, facecolor='blue', interpolate=True)\n",
      "    plt.fill_between(stack_time-5,LS,0,where=LS<=0, facecolor='red', interpolate=True)\n",
      "    plt.title('Linear Stacking',fontsize=12)\n",
      "    plt.yticks([])\n",
      "    plt.xlim(-4.9,20)\n",
      "    plt.subplot(gs[2])\n",
      "    plt.plot(stack_time-5,LS_window,'k',linewidth=1)\n",
      "    plt.fill_between(stack_time-5,LS_window,0,where=LS_window>=0, facecolor='blue', interpolate=True)\n",
      "    plt.fill_between(stack_time-5,LS_window,0,where=LS_window<=0, facecolor='red', interpolate=True)\n",
      "    plt.title('Linear Stacking - Window Function ',fontsize=12)\n",
      "    plt.yticks([])\n",
      "    plt.xlim(-4.9,20)\n",
      "    plt.subplot(gs[3])\n",
      "    plt.plot(stack_time-5,PWS,'k',linewidth=1)\n",
      "    plt.fill_between(stack_time-5,PWS,0,where=PWS>=0, facecolor='blue', interpolate=True)\n",
      "    plt.fill_between(stack_time-5,PWS,0,where=PWS<=0, facecolor='red', interpolate=True)\n",
      "    plt.title('Phase-Weighted Stacking',fontsize=12)\n",
      "    plt.yticks([])\n",
      "    plt.xlim(-4.9,20)\n",
      "    plt.subplot(gs[4])\n",
      "    plt.plot(stack_time-5,PWS_window,'k',linewidth=1)\n",
      "    plt.fill_between(stack_time-5,PWS_window,0,where=PWS_window>=0, facecolor='blue', interpolate=True)\n",
      "    plt.fill_between(stack_time-5,PWS_window,0,where=PWS_window<=0, facecolor='red', interpolate=True)\n",
      "    plt.title('Phase-Weighted Stacking - Window Function',fontsize=12)\n",
      "    plt.yticks([])\n",
      "    plt.xlim(-4.9,20)\n",
      "    plt.savefig('Fun\u00e7\u00f5es do Receptor e Empilhamento- '+STA+'.png',dpi=600)"
     ],
     "language": "python",
     "metadata": {},
     "outputs": []
    },
    {
     "cell_type": "code",
     "collapsed": false,
     "input": [
      "plot_RP(STdados['orglist'],STdados['timeR'],STdados['dataR'],STdados['tPs'],STdados['tPpPs'],STdados['tPsPs'],STdados['ampli_min'],STdados['ampli_max'],STdados['RP'],STdados['stack_time'],STdados['LS'],STdados['LS_window'],STdados['PWS'],STdados['PWS_window'])"
     ],
     "language": "python",
     "metadata": {},
     "outputs": []
    },
    {
     "cell_type": "markdown",
     "metadata": {},
     "source": [
      "<h2>Salvando os arquivos das fun\u00e7\u00f5es do Receptor Empilhadas para cada grupo de evento<h2>"
     ]
    },
    {
     "cell_type": "code",
     "collapsed": false,
     "input": [
      "os.system('mkdir '+ '/home/diogo/Processamento_subsal/process/'+STA+'/stack')"
     ],
     "language": "python",
     "metadata": {},
     "outputs": []
    },
    {
     "cell_type": "markdown",
     "metadata": {},
     "source": [
      "<h3> RF Grupo NE</h3>"
     ]
    },
    {
     "cell_type": "code",
     "collapsed": false,
     "input": [
      "if RFdados['NE']['lista'] != []:\n",
      "    np.savetxt('/home/diogo/Processamento_subsal/process/'+STA+'/stack/NEstack'+STA+'.txt',(RFdados['NE']['LS'],RFdados['NE']['LS_window'],RFdados['NE']['PWS'],RFdados['NE']['PWS_window'],RFdados['NE']['stack_time']),delimiter=',', header='NELS,NELS_window,NEPWS,NEPWS_window,NEstack_time')"
     ],
     "language": "python",
     "metadata": {},
     "outputs": []
    },
    {
     "cell_type": "markdown",
     "metadata": {},
     "source": [
      "<h3> RF Grupo SE</h3>"
     ]
    },
    {
     "cell_type": "code",
     "collapsed": false,
     "input": [
      "if RFdados['SE']['lista'] != []:\n",
      "    np.savetxt('/home/diogo/Processamento_subsal/process/'+STA+'/stack/SEstack'+STA+'.txt',(RFdados['SE']['LS'],RFdados['SE']['LS_window'],RFdados['SE']['PWS'],RFdados['SE']['PWS_window'],RFdados['SE']['stack_time']),delimiter=',', header='SELS,SELS_window,SEPWS,SEPWS_window,SEstack_time')"
     ],
     "language": "python",
     "metadata": {},
     "outputs": []
    },
    {
     "cell_type": "markdown",
     "metadata": {},
     "source": [
      "<h3> RF Grupo SW</h3>"
     ]
    },
    {
     "cell_type": "code",
     "collapsed": false,
     "input": [
      "if RFdados['SW']['lista'] != []:\n",
      "    np.savetxt('/home/diogo/Processamento_subsal/process/'+STA+'/stack/SWstack'+STA+'.txt',(RFdados['SW']['LS'],RFdados['SW']['LS_window'],RFdados['SW']['PWS'],RFdados['SW']['PWS_window'],RFdados['SW']['stack_time']),delimiter=',', header='SWLS,SWLS_window,SWPWS,SWPWS_window,SWstack_time')"
     ],
     "language": "python",
     "metadata": {},
     "outputs": []
    },
    {
     "cell_type": "markdown",
     "metadata": {},
     "source": [
      "<h3> RF Grupo NW</h3>"
     ]
    },
    {
     "cell_type": "code",
     "collapsed": false,
     "input": [
      "if RFdados['NW']['lista'] != []:\n",
      "    np.savetxt('/home/diogo/Processamento_subsal/process/'+STA+'/stack/NWstack'+STA+'.txt',(RFdados['NW']['LS'],RFdados['NW']['LS_window'],RFdados['NW']['PWS'],RFdados['NW']['PWS_window'],RFdados['NW']['stack_time']),delimiter=',', header='NWLS,NWLS_window,NWPWS,NWPWS_window,NWstack_time')"
     ],
     "language": "python",
     "metadata": {},
     "outputs": []
    },
    {
     "cell_type": "markdown",
     "metadata": {},
     "source": [
      "<h2>Removendo os arquivos das fun\u00e7\u00f5es do Receptor<h2>"
     ]
    },
    {
     "cell_type": "code",
     "collapsed": false,
     "input": [
      "!rm *.sac"
     ],
     "language": "python",
     "metadata": {},
     "outputs": [
      {
       "output_type": "stream",
       "stream": "stdout",
       "text": [
        "rm: cannot remove \u2018*.sac\u2019: No such file or directory\r\n"
       ]
      }
     ],
     "prompt_number": 55
    },
    {
     "cell_type": "code",
     "collapsed": false,
     "input": [
      "!ls"
     ],
     "language": "python",
     "metadata": {},
     "outputs": [
      {
       "output_type": "stream",
       "stream": "stdout",
       "text": [
        "azimuth_noise.ipynb\t\t\t\t     Fun\u00e7\u00f5es do Receptor e Empilhamento - SE - STA13.png  Fun\u00e7\u00f5es do Receptor e Empilhamento - SW - STA13.png\r\n",
        "exemplo_propagacao.ipynb\t\t\t     Fun\u00e7\u00f5es do Receptor e Empilhamento - SE - STA14.png  Fun\u00e7\u00f5es do Receptor e Empilhamento - SW - STA14.png\r\n",
        "frames\t\t\t\t\t\t     Fun\u00e7\u00f5es do Receptor e Empilhamento - SE - STA16.png  Fun\u00e7\u00f5es do Receptor e Empilhamento - SW - STA16.png\r\n",
        "Fun\u00e7\u00f5es do Receptor e Empilhamento - NE - STA04.png  Fun\u00e7\u00f5es do Receptor e Empilhamento - SE - STA17.png  Fun\u00e7\u00f5es do Receptor e Empilhamento - SW - STA18.png\r\n",
        "Fun\u00e7\u00f5es do Receptor e Empilhamento - NE - STA08.png  Fun\u00e7\u00f5es do Receptor e Empilhamento - SE - STA18.png  Fun\u00e7\u00f5es do Receptor e Empilhamento - SW - STA19.png\r\n",
        "Fun\u00e7\u00f5es do Receptor e Empilhamento - NE - STA09.png  Fun\u00e7\u00f5es do Receptor e Empilhamento - SE - STA19.png  Fun\u00e7\u00f5es do Receptor e Empilhamento - SW - STA20.png\r\n",
        "Fun\u00e7\u00f5es do Receptor e Empilhamento - NE - STA10.png  Fun\u00e7\u00f5es do Receptor e Empilhamento - SE - STA20.png  Fun\u00e7\u00f5es do Receptor e Empilhamento - SW - STA21.png\r\n",
        "Fun\u00e7\u00f5es do Receptor e Empilhamento - NE - STA15.png  Fun\u00e7\u00f5es do Receptor e Empilhamento - SE - STA21.png  Interpolacao_FR.ipynb\r\n",
        "Fun\u00e7\u00f5es do Receptor e Empilhamento - NE - STA19.png  Fun\u00e7\u00f5es do Receptor e Empilhamento- SLP01.png\t  Interpola\u00e7\u00e3o.ipynb\r\n",
        "Fun\u00e7\u00f5es do Receptor e Empilhamento - NE - STA20.png  Fun\u00e7\u00f5es do Receptor e Empilhamento- STA01.png\t  Interpolacao Linear  - Profundidade de Moho.png\r\n",
        "Fun\u00e7\u00f5es do Receptor e Empilhamento - NW - SLP01.png  Fun\u00e7\u00f5es do Receptor e Empilhamento- STA02.png\t  Interpolacao Linear  - Profundidade de Moho - Pontos.png\r\n",
        "Fun\u00e7\u00f5es do Receptor e Empilhamento - NW - STA01.png  Fun\u00e7\u00f5es do Receptor e Empilhamento- STA03.png\t  moho.png\r\n",
        "Fun\u00e7\u00f5es do Receptor e Empilhamento - NW - STA02.png  Fun\u00e7\u00f5es do Receptor e Empilhamento- STA04.png\t  NE_perfil1.asc\r\n",
        "Fun\u00e7\u00f5es do Receptor e Empilhamento - NW - STA03.png  Fun\u00e7\u00f5es do Receptor e Empilhamento- STA05.png\t  NEstack_perfil1.asc\r\n",
        "Fun\u00e7\u00f5es do Receptor e Empilhamento - NW - STA04.png  Fun\u00e7\u00f5es do Receptor e Empilhamento- STA06.png\t  NWstack_perfil1.asc\r\n",
        "Fun\u00e7\u00f5es do Receptor e Empilhamento - NW - STA05.png  Fun\u00e7\u00f5es do Receptor e Empilhamento- STA07.png\t  Perfil das Fun\u00e7\u00f5es do Receptor - NELS - Perfil 1.png\r\n",
        "Fun\u00e7\u00f5es do Receptor e Empilhamento - NW - STA06.png  Fun\u00e7\u00f5es do Receptor e Empilhamento- STA08.png\t  Perfil das Fun\u00e7\u00f5es do Receptor - NELS_Window - Perfil 1.png\r\n",
        "Fun\u00e7\u00f5es do Receptor e Empilhamento - NW - STA07.png  Fun\u00e7\u00f5es do Receptor e Empilhamento- STA09.png\t  Perfil das Fun\u00e7\u00f5es do Receptor - NE - Perfil 1.png\r\n",
        "Fun\u00e7\u00f5es do Receptor e Empilhamento - NW - STA08.png  Fun\u00e7\u00f5es do Receptor e Empilhamento- STA10.png\t  Perfil das Fun\u00e7\u00f5es do Receptor - NEPWS - Perfil 1.png\r\n",
        "Fun\u00e7\u00f5es do Receptor e Empilhamento - NW - STA09.png  Fun\u00e7\u00f5es do Receptor e Empilhamento- STA11.png\t  Perfil das Fun\u00e7\u00f5es do Receptor - NEPWS_Window - Perfil 1.png\r\n",
        "Fun\u00e7\u00f5es do Receptor e Empilhamento - NW - STA10.png  Fun\u00e7\u00f5es do Receptor e Empilhamento- STA12.png\t  Perfil das Fun\u00e7\u00f5es do Receptor - NWLS - Perfil 1.png\r\n",
        "Fun\u00e7\u00f5es do Receptor e Empilhamento - NW - STA11.png  Fun\u00e7\u00f5es do Receptor e Empilhamento- STA13.png\t  Perfil das Fun\u00e7\u00f5es do Receptor - NWLS_Window - Perfil 1.png\r\n",
        "Fun\u00e7\u00f5es do Receptor e Empilhamento - NW - STA12.png  Fun\u00e7\u00f5es do Receptor e Empilhamento- STA14.png\t  Perfil das Fun\u00e7\u00f5es do Receptor - NW - Perfil 1.png\r\n",
        "Fun\u00e7\u00f5es do Receptor e Empilhamento - NW - STA13.png  Fun\u00e7\u00f5es do Receptor e Empilhamento- STA15.png\t  Perfil das Fun\u00e7\u00f5es do Receptor - NWPWS - Perfil 1.png\r\n",
        "Fun\u00e7\u00f5es do Receptor e Empilhamento - NW - STA14.png  Fun\u00e7\u00f5es do Receptor e Empilhamento- STA16.png\t  Perfil das Fun\u00e7\u00f5es do Receptor - NWPWS_Window - Perfil 1.png\r\n",
        "Fun\u00e7\u00f5es do Receptor e Empilhamento - NW - STA15.png  Fun\u00e7\u00f5es do Receptor e Empilhamento- STA17.png\t  Perfil das Fun\u00e7\u00f5es do Receptor - SELS - Perfil 1.png\r\n",
        "Fun\u00e7\u00f5es do Receptor e Empilhamento - NW - STA16.png  Fun\u00e7\u00f5es do Receptor e Empilhamento- STA18.png\t  Perfil das Fun\u00e7\u00f5es do Receptor - SELS_Window - Perfil 1.png\r\n",
        "Fun\u00e7\u00f5es do Receptor e Empilhamento - NW - STA17.png  Fun\u00e7\u00f5es do Receptor e Empilhamento- STA19.png\t  Perfil das Fun\u00e7\u00f5es do Receptor - SE - Perfil 1.png\r\n",
        "Fun\u00e7\u00f5es do Receptor e Empilhamento - NW - STA18.png  Fun\u00e7\u00f5es do Receptor e Empilhamento- STA20.png\t  Perfil das Fun\u00e7\u00f5es do Receptor - SEPWS - Perfil 1.png\r\n",
        "Fun\u00e7\u00f5es do Receptor e Empilhamento - NW - STA19.png  Fun\u00e7\u00f5es do Receptor e Empilhamento- STA21.png\t  Perfil das Fun\u00e7\u00f5es do Receptor - SEPWS_Window - Perfil 1.png\r\n",
        "Fun\u00e7\u00f5es do Receptor e Empilhamento - NW - STA20.png  Fun\u00e7\u00f5es do Receptor e Empilhamento - SW - SLP01.png  Perfil das Fun\u00e7\u00f5es do Receptor - SWLS - Perfil 1.png\r\n",
        "Fun\u00e7\u00f5es do Receptor e Empilhamento - NW - STA21.png  Fun\u00e7\u00f5es do Receptor e Empilhamento - SW - STA01.png  Perfil das Fun\u00e7\u00f5es do Receptor - SWLS_Window - Perfil 1.png\r\n",
        "Fun\u00e7\u00f5es do Receptor e Empilhamento - SE - SLP01.png  Fun\u00e7\u00f5es do Receptor e Empilhamento - SW - STA02.png  Perfil das Fun\u00e7\u00f5es do Receptor - SW - Perfil 1.png\r\n",
        "Fun\u00e7\u00f5es do Receptor e Empilhamento - SE - STA01.png  Fun\u00e7\u00f5es do Receptor e Empilhamento - SW - STA03.png  Perfil das Fun\u00e7\u00f5es do Receptor - SWPWS - Perfil 1.png\r\n",
        "Fun\u00e7\u00f5es do Receptor e Empilhamento - SE - STA02.png  Fun\u00e7\u00f5es do Receptor e Empilhamento - SW - STA04.png  Perfil das Fun\u00e7\u00f5es do Receptor - SWPWS_Window - Perfil 1.png\r\n",
        "Fun\u00e7\u00f5es do Receptor e Empilhamento - SE - STA03.png  Fun\u00e7\u00f5es do Receptor e Empilhamento - SW - STA05.png  plotagem_funcao_receptor.ipynb\r\n",
        "Fun\u00e7\u00f5es do Receptor e Empilhamento - SE - STA05.png  Fun\u00e7\u00f5es do Receptor e Empilhamento - SW - STA07.png  plotagem_perfil_estacoes.ipynb\r\n",
        "Fun\u00e7\u00f5es do Receptor e Empilhamento - SE - STA07.png  Fun\u00e7\u00f5es do Receptor e Empilhamento - SW - STA08.png  README.md\r\n",
        "Fun\u00e7\u00f5es do Receptor e Empilhamento - SE - STA08.png  Fun\u00e7\u00f5es do Receptor e Empilhamento - SW - STA09.png  SEstack_perfil1.asc\r\n",
        "Fun\u00e7\u00f5es do Receptor e Empilhamento - SE - STA09.png  Fun\u00e7\u00f5es do Receptor e Empilhamento - SW - STA10.png  SWstack_perfil1.asc\r\n",
        "Fun\u00e7\u00f5es do Receptor e Empilhamento - SE - STA11.png  Fun\u00e7\u00f5es do Receptor e Empilhamento - SW - STA11.png  velocity-model.png\r\n",
        "Fun\u00e7\u00f5es do Receptor e Empilhamento - SE - STA12.png  Fun\u00e7\u00f5es do Receptor e Empilhamento - SW - STA12.png\r\n"
       ]
      }
     ],
     "prompt_number": 54
    },
    {
     "cell_type": "code",
     "collapsed": false,
     "input": [],
     "language": "python",
     "metadata": {},
     "outputs": []
    }
   ],
   "metadata": {}
  }
 ]
}