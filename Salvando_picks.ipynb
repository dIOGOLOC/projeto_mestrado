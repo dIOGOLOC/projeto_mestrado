{
 "metadata": {
  "name": ""
 },
 "nbformat": 3,
 "nbformat_minor": 0,
 "worksheets": [
  {
   "cells": [
    {
     "cell_type": "code",
     "collapsed": false,
     "input": [
      "%pylab inline"
     ],
     "language": "python",
     "metadata": {},
     "outputs": [
      {
       "output_type": "stream",
       "stream": "stdout",
       "text": [
        "Populating the interactive namespace from numpy and matplotlib\n"
       ]
      }
     ],
     "prompt_number": 1
    },
    {
     "cell_type": "code",
     "collapsed": false,
     "input": [
      "from __future__ import print_function\n",
      "import numpy as np\n",
      "import matplotlib.pyplot as plt\n",
      "import obspy\n",
      "from obspy import Trace\n",
      "import glob\n",
      "import os\n",
      "import shutil\n",
      "import matplotlib.gridspec as gridspec"
     ],
     "language": "python",
     "metadata": {},
     "outputs": [],
     "prompt_number": 2
    },
    {
     "cell_type": "markdown",
     "metadata": {},
     "source": [
      "<h3>Procurando as fun\u00e7\u00f5es do Receptor nas pastas das esta\u00e7\u00f5es:</h3>"
     ]
    },
    {
     "cell_type": "code",
     "collapsed": false,
     "input": [
      "STA = \"STA12\""
     ],
     "language": "python",
     "metadata": {},
     "outputs": [],
     "prompt_number": 29
    },
    {
     "cell_type": "code",
     "collapsed": false,
     "input": [
      "RFdeconlist = []\n",
      "RFlist = []\n",
      "RFname = []\n",
      "for root, dirs, files in os.walk('/home/diogo/projeto/process/'+STA+'/hkstack/'):\n",
      "    for RFfile in files:\n",
      "        if RFfile.endswith('.decon.sac'):\n",
      "            RFdeconlist.append(os.path.join(root, RFfile))"
     ],
     "language": "python",
     "metadata": {},
     "outputs": [],
     "prompt_number": 30
    },
    {
     "cell_type": "code",
     "collapsed": false,
     "input": [
      "RFlist=[i.split('home/diogo/projeto/process/'+STA+'/hkstack/')[1] for i in RFdeconlist]"
     ],
     "language": "python",
     "metadata": {},
     "outputs": [],
     "prompt_number": 31
    },
    {
     "cell_type": "markdown",
     "metadata": {},
     "source": [
      "<h3>Tranformando as fun\u00e7\u00f5es do Receptor:(.sac to .asc)(.asc to .sac)</h3>"
     ]
    },
    {
     "cell_type": "code",
     "collapsed": false,
     "input": [
      "for i,j in enumerate(RFlist):\n",
      "    shutil.copyfile(RFdeconlist[i],'/home/diogo/projeto_mestrado/' + j)"
     ],
     "language": "python",
     "metadata": {},
     "outputs": [],
     "prompt_number": 32
    },
    {
     "cell_type": "code",
     "collapsed": false,
     "input": [
      "RFname=[i.split('.decon.sac')[0] for i in RFlist]"
     ],
     "language": "python",
     "metadata": {},
     "outputs": [],
     "prompt_number": 33
    },
    {
     "cell_type": "code",
     "collapsed": false,
     "input": [
      "for i in RFname:\n",
      "    os.system('sactoasc ' + i+'.decon.sac ' + i +'.asc')\n",
      "    os.system('asctosac ' + i+'.asc ' + i +'.sac')\n",
      "    os.system('rm ' + i +'.decon.sac' )\n",
      "    os.system('rm ' + i +'.asc' )"
     ],
     "language": "python",
     "metadata": {},
     "outputs": [],
     "prompt_number": 34
    },
    {
     "cell_type": "markdown",
     "metadata": {},
     "source": [
      "<h2>Importando os arquivos:</h2>\n",
      "\n",
      "Declarando as vari\u00e1veis:"
     ]
    },
    {
     "cell_type": "code",
     "collapsed": false,
     "input": [
      "st = obspy.read('ON*0.sac')\n",
      "stdata = [i.data for i in st]"
     ],
     "language": "python",
     "metadata": {},
     "outputs": [],
     "prompt_number": 35
    },
    {
     "cell_type": "code",
     "collapsed": false,
     "input": [
      "print(st[0].stats)"
     ],
     "language": "python",
     "metadata": {},
     "outputs": [
      {
       "output_type": "stream",
       "stream": "stdout",
       "text": [
        "         network: ON\n",
        "         station: STA12\n",
        "        location: \n",
        "         channel: \n",
        "       starttime: 2012-06-07T04:10:22.828000Z\n",
        "         endtime: 2012-06-07T04:10:57.828000Z\n",
        "   sampling_rate: 40.0\n",
        "           delta: 0.025\n",
        "            npts: 1401\n",
        "           calib: 1.0\n",
        "         _format: SAC\n",
        "             sac: AttribDict({'dist': 2820.155, 'isynth': -12345, 'depmin': -0.1342807, 'iftype': 1, 'kuser0': 'Rftn    ', 'kuser1': 'IT_DECON', 'kuser2': '-12345  ', 'gcarc': 25.354561, 'iinst': -12345, 'ymaximum': -12345.0, 'kevnm': 'Rftn            ', 'iqual': -12345, 'cmpinc': 90.0, 'imagsrc': -12345, 'norid': -12345, 'unused11': -12345.0, 'unused10': -12345.0, 'lpspol': 1, 'unused12': -12345.0, 'leven': 1, 't8': -12345.0, 't9': -12345.0, 't6': -12345.0, 't7': -12345.0, 't4': -12345.0, 't5': -12345.0, 't2': 472.58041, 't3': -12345.0, 't0': -12345.0, 't1': 205.0004, 'istreg': -12345, 'baz': 231.84419, 'yminimum': -12345.0, 'evla': -36.074001, 'xminimum': -12345.0, 'idep': -12345, 'stdp': -12345.0, 'evlo': -70.57, 'nwfid': -12345, 'ievreg': -12345, 'ievtype': -12345, 'stel': 890.0, 'depmax': 0.80738539, 'lovrok': 1, 'imagtyp': -12345, 'kinst': '-12345  ', 'xmaximum': -12345.0, 'o': -122.4081, 'cmpaz': 51.844181, 'lcalda': 1, 'kt8': '-12345  ', 'kt9': '-12345  ', 'nvhdr': 6, 'kt4': '-12345  ', 'kt5': '-12345  ', 'kt6': '-12345  ', 'kt7': '-12345  ', 'kt0': '-12345  ', 'kt1': 'p iaspei', 'kt2': 's iaspei', 'kt3': '-12345  ', 'unused7': 0.0, 'unused6': -12345.0, 'unused9': -12345.0, 'unused8': 11.2, 'iztype': 9, 'kf': '-12345  ', 'b': -5.0, 'stla': -22.32379, 'f': -12345.0, 'stlo': -46.010471, 'evdp': 8.0, 'user6': 30.0, 'user7': 99.0, 'user4': 0.0817298, 'user5': 98.951263, 'user2': 0.1, 'user3': -12345.0, 'user0': 2.0, 'user1': -12345.0, 'user8': 0.0817298, 'user9': -12345.0, 'az': 63.99316, 'nevid': -12345, 'depmen': 0.029268591, 'mag': 5.9000001, 'kdatrd': '-12345  ', 'a': 205.9041, 'ka': 'EP      ', 'e': 30.0, 'odelta': -12345.0, 'ko': '-12345  '})\n"
       ]
      }
     ],
     "prompt_number": 36
    },
    {
     "cell_type": "code",
     "collapsed": false,
     "input": [
      "list(st[i].stats.sac.t1 for i in xrange(len(st)))"
     ],
     "language": "python",
     "metadata": {},
     "outputs": [
      {
       "metadata": {},
       "output_type": "pyout",
       "prompt_number": 42,
       "text": [
        "[205.0004,\n",
        " 205.0004,\n",
        " 205.0004,\n",
        " 205.0004,\n",
        " 205.0004,\n",
        " 205.0004,\n",
        " 205.0004,\n",
        " 205.0004,\n",
        " 205.0004,\n",
        " 205.0004,\n",
        " 205.0004,\n",
        " 205.0004,\n",
        " 205.0004,\n",
        " 205.00031]"
       ]
      }
     ],
     "prompt_number": 42
    },
    {
     "cell_type": "code",
     "collapsed": false,
     "input": [
      "list(st[i].stats.sac.t2 for i in xrange(len(st)))"
     ],
     "language": "python",
     "metadata": {},
     "outputs": [
      {
       "metadata": {},
       "output_type": "pyout",
       "prompt_number": 43,
       "text": [
        "[472.58041,\n",
        " 466.5704,\n",
        " 526.46039,\n",
        " 636.12042,\n",
        " 546.88037,\n",
        " 428.65039,\n",
        " 456.26041,\n",
        " 440.56039,\n",
        " 453.01041,\n",
        " 550.6604,\n",
        " 674.90039,\n",
        " 792.87042,\n",
        " 743.81042,\n",
        " 505.86029]"
       ]
      }
     ],
     "prompt_number": 43
    },
    {
     "cell_type": "code",
     "collapsed": false,
     "input": [
      "'''STdados['stR'] = obspy.read('ON*0.sac')\n",
      "STdados['stR'].normalize()\n",
      "STdados['dataR'] = [i.data for i in STdados['stR']]\n",
      "STdados['stT'] = obspy.read('*t.sac')\n",
      "STdados['dataT'] = [i.data for i in STdados['stT']]\n",
      "STdados['timeR'] = [i.times() for i in STdados['stR']]\n",
      "STdados['timeT'] = [i.times() for i in STdados['stT']]\n",
      "STdados['gcarc'] = [format(i.stats.sac.gcarc,'.0f') for i in STdados['stR']]\n",
      "STdados['BAZ'] = [format(i.stats.sac.baz,'.0f') for i in STdados['stR']]\n",
      "STdados['RP'] = [format(i.stats.sac.user8,'.5f') for i in STdados['stR']]'''"
     ],
     "language": "python",
     "metadata": {},
     "outputs": [
      {
       "metadata": {},
       "output_type": "pyout",
       "prompt_number": 39,
       "text": [
        "\"STdados['stR'] = obspy.read('ON*0.sac')\\nSTdados['stR'].normalize()\\nSTdados['dataR'] = [i.data for i in STdados['stR']]\\nSTdados['stT'] = obspy.read('*t.sac')\\nSTdados['dataT'] = [i.data for i in STdados['stT']]\\nSTdados['timeR'] = [i.times() for i in STdados['stR']]\\nSTdados['timeT'] = [i.times() for i in STdados['stT']]\\nSTdados['gcarc'] = [format(i.stats.sac.gcarc,'.0f') for i in STdados['stR']]\\nSTdados['BAZ'] = [format(i.stats.sac.baz,'.0f') for i in STdados['stR']]\\nSTdados['RP'] = [format(i.stats.sac.user8,'.5f') for i in STdados['stR']]\""
       ]
      }
     ],
     "prompt_number": 39
    },
    {
     "cell_type": "code",
     "collapsed": false,
     "input": [
      "!rm *.sac"
     ],
     "language": "python",
     "metadata": {},
     "outputs": [],
     "prompt_number": 40
    },
    {
     "cell_type": "code",
     "collapsed": false,
     "input": [
      "!ls"
     ],
     "language": "python",
     "metadata": {},
     "outputs": [
      {
       "output_type": "stream",
       "stream": "stdout",
       "text": [
        "Empilhamento Fun\u00e7\u00f5es do Receptor - STA01.png\t\t    Fun\u00e7\u00f5es do Receptor Normalizadas e Empilhamento- STA07.png\r\n",
        "Empilhamento Fun\u00e7\u00f5es do Receptor - STA02.png\t\t    Fun\u00e7\u00f5es do Receptor Normalizadas e Empilhamento- STA08.png\r\n",
        "Empilhamento Fun\u00e7\u00f5es do Receptor - STA03.png\t\t    Fun\u00e7\u00f5es do Receptor Normalizadas e Empilhamento- STA09.png\r\n",
        "Empilhamento Fun\u00e7\u00f5es do Receptor - STA04.png\t\t    Fun\u00e7\u00f5es do Receptor Normalizadas e Empilhamento- STA10.png\r\n",
        "Empilhamento Fun\u00e7\u00f5es do Receptor - STA05.png\t\t    Fun\u00e7\u00f5es do Receptor Normalizadas e Empilhamento- STA11.png\r\n",
        "Empilhamento Fun\u00e7\u00f5es do Receptor - STA06.png\t\t    Fun\u00e7\u00f5es do Receptor Normalizadas e Empilhamento- STA12.png\r\n",
        "Empilhamento Fun\u00e7\u00f5es do Receptor - STA07.png\t\t    Fun\u00e7\u00f5es do Receptor Normalizadas e Empilhamento- STA13.png\r\n",
        "Empilhamento Fun\u00e7\u00f5es do Receptor - STA08.png\t\t    Fun\u00e7\u00f5es do Receptor Normalizadas e Empilhamento- STA14.png\r\n",
        "Empilhamento Fun\u00e7\u00f5es do Receptor - STA09.png\t\t    Fun\u00e7\u00f5es do Receptor Normalizadas e Empilhamento- STA15.png\r\n",
        "Empilhamento Fun\u00e7\u00f5es do Receptor - STA10.png\t\t    Fun\u00e7\u00f5es do Receptor Normalizadas e Empilhamento- STA16.png\r\n",
        "Empilhamento Fun\u00e7\u00f5es do Receptor - STA11.png\t\t    Fun\u00e7\u00f5es do Receptor Normalizadas - STA01.png\r\n",
        "Empilhamento Fun\u00e7\u00f5es do Receptor - STA12.png\t\t    Fun\u00e7\u00f5es do Receptor Normalizadas - STA02.png\r\n",
        "Empilhamento Fun\u00e7\u00f5es do Receptor - STA13.png\t\t    Fun\u00e7\u00f5es do Receptor Normalizadas - STA03.png\r\n",
        "Empilhamento Fun\u00e7\u00f5es do Receptor - STA14.png\t\t    Fun\u00e7\u00f5es do Receptor Normalizadas - STA04.png\r\n",
        "Empilhamento Fun\u00e7\u00f5es do Receptor - STA15.png\t\t    Fun\u00e7\u00f5es do Receptor Normalizadas - STA05.png\r\n",
        "Empilhamento Fun\u00e7\u00f5es do Receptor - STA16.png\t\t    Fun\u00e7\u00f5es do Receptor Normalizadas - STA06.png\r\n",
        "Fun\u00e7\u00f5es do Receptor e Empilhamento - NE - STA08.png\t    Fun\u00e7\u00f5es do Receptor Normalizadas - STA07.png\r\n",
        "Fun\u00e7\u00f5es do Receptor e Empilhamento - NE - STA13.png\t    Fun\u00e7\u00f5es do Receptor Normalizadas - STA08.png\r\n",
        "Fun\u00e7\u00f5es do Receptor e Empilhamento - NW - STA01.png\t    Fun\u00e7\u00f5es do Receptor Normalizadas - STA09.png\r\n",
        "Fun\u00e7\u00f5es do Receptor e Empilhamento - NW - STA02.png\t    Fun\u00e7\u00f5es do Receptor Normalizadas - STA10.png\r\n",
        "Fun\u00e7\u00f5es do Receptor e Empilhamento - NW - STA03.png\t    Fun\u00e7\u00f5es do Receptor Normalizadas - STA11.png\r\n",
        "Fun\u00e7\u00f5es do Receptor e Empilhamento - NW - STA04.png\t    Fun\u00e7\u00f5es do Receptor Normalizadas - STA12.png\r\n",
        "Fun\u00e7\u00f5es do Receptor e Empilhamento - NW - STA05.png\t    Fun\u00e7\u00f5es do Receptor Normalizadas - STA13.png\r\n",
        "Fun\u00e7\u00f5es do Receptor e Empilhamento - NW - STA06.png\t    Fun\u00e7\u00f5es do Receptor Normalizadas - STA14.png\r\n",
        "Fun\u00e7\u00f5es do Receptor e Empilhamento - NW - STA07.png\t    Fun\u00e7\u00f5es do Receptor Normalizadas - STA15.png\r\n",
        "Fun\u00e7\u00f5es do Receptor e Empilhamento - NW - STA08.png\t    Fun\u00e7\u00f5es do Receptor Normalizadas - STA16.png\r\n",
        "Fun\u00e7\u00f5es do Receptor e Empilhamento - NW - STA09.png\t    Fun\u00e7\u00f5es do Receptor Normalizadas - STA18.png\r\n",
        "Fun\u00e7\u00f5es do Receptor e Empilhamento - NW - STA10.png\t    Fun\u00e7\u00f5es do Receptor Normalizadas - STA19.png\r\n",
        "Fun\u00e7\u00f5es do Receptor e Empilhamento - NW - STA11.png\t    Fun\u00e7\u00f5es do Receptor - STA01.png\r\n",
        "Fun\u00e7\u00f5es do Receptor e Empilhamento - NW - STA12.png\t    Fun\u00e7\u00f5es do Receptor - STA02.png\r\n",
        "Fun\u00e7\u00f5es do Receptor e Empilhamento - NW - STA13.png\t    Fun\u00e7\u00f5es do Receptor - STA03.png\r\n",
        "Fun\u00e7\u00f5es do Receptor e Empilhamento - NW - STA14.png\t    Fun\u00e7\u00f5es do Receptor - STA04.png\r\n",
        "Fun\u00e7\u00f5es do Receptor e Empilhamento - NW - STA15.png\t    Fun\u00e7\u00f5es do Receptor - STA05.png\r\n",
        "Fun\u00e7\u00f5es do Receptor e Empilhamento - NW - STA16.png\t    Fun\u00e7\u00f5es do Receptor - STA06.png\r\n",
        "Fun\u00e7\u00f5es do Receptor e Empilhamento - SE - STA01.png\t    Fun\u00e7\u00f5es do Receptor - STA07.png\r\n",
        "Fun\u00e7\u00f5es do Receptor e Empilhamento - SE - STA02.png\t    Fun\u00e7\u00f5es do Receptor - STA08.png\r\n",
        "Fun\u00e7\u00f5es do Receptor e Empilhamento - SE - STA05.png\t    Fun\u00e7\u00f5es do Receptor - STA09.png\r\n",
        "Fun\u00e7\u00f5es do Receptor e Empilhamento - SE - STA06.png\t    Fun\u00e7\u00f5es do Receptor - STA10.png\r\n",
        "Fun\u00e7\u00f5es do Receptor e Empilhamento - SE - STA07.png\t    Fun\u00e7\u00f5es do Receptor - STA11.png\r\n",
        "Fun\u00e7\u00f5es do Receptor e Empilhamento - SE - STA08.png\t    Fun\u00e7\u00f5es do Receptor - STA12.png\r\n",
        "Fun\u00e7\u00f5es do Receptor e Empilhamento - SE - STA09.png\t    Fun\u00e7\u00f5es do Receptor - STA13.png\r\n",
        "Fun\u00e7\u00f5es do Receptor e Empilhamento - SE - STA11.png\t    Fun\u00e7\u00f5es do Receptor - STA14.png\r\n",
        "Fun\u00e7\u00f5es do Receptor e Empilhamento - SE - STA12.png\t    Fun\u00e7\u00f5es do Receptor - STA15.png\r\n",
        "Fun\u00e7\u00f5es do Receptor e Empilhamento - SE - STA13.png\t    Fun\u00e7\u00f5es do Receptor - STA16.png\r\n",
        "Fun\u00e7\u00f5es do Receptor e Empilhamento - SE - STA14.png\t    Fun\u00e7\u00f5es do Receptor - STA18.png\r\n",
        "Fun\u00e7\u00f5es do Receptor e Empilhamento - SE - STA16.png\t    Fun\u00e7\u00f5es do Receptor - STA19.png\r\n",
        "Fun\u00e7\u00f5es do Receptor e Empilhamento- STA01.png\t\t    NEstack_perfil1.asc\r\n",
        "Fun\u00e7\u00f5es do Receptor e Empilhamento- STA02.png\t\t    NEstackSTA08.txt\r\n",
        "Fun\u00e7\u00f5es do Receptor e Empilhamento- STA03.png\t\t    NWstack_perfil1.asc\r\n",
        "Fun\u00e7\u00f5es do Receptor e Empilhamento- STA04.png\t\t    NWstackSTA01.txt\r\n",
        "Fun\u00e7\u00f5es do Receptor e Empilhamento- STA05.png\t\t    NWstackSTA02.txt\r\n",
        "Fun\u00e7\u00f5es do Receptor e Empilhamento- STA06.png\t\t    NWstackSTA03.txt\r\n",
        "Fun\u00e7\u00f5es do Receptor e Empilhamento- STA07.png\t\t    NWstackSTA04.txt\r\n",
        "Fun\u00e7\u00f5es do Receptor e Empilhamento- STA08.png\t\t    NWstackSTA05.txt\r\n",
        "Fun\u00e7\u00f5es do Receptor e Empilhamento- STA09.png\t\t    NWstackSTA06.txt\r\n",
        "Fun\u00e7\u00f5es do Receptor e Empilhamento- STA10.png\t\t    NWstackSTA07.txt\r\n",
        "Fun\u00e7\u00f5es do Receptor e Empilhamento- STA11.png\t\t    NWstackSTA08.txt\r\n",
        "Fun\u00e7\u00f5es do Receptor e Empilhamento- STA12.png\t\t    NWstackSTA09.txt\r\n",
        "Fun\u00e7\u00f5es do Receptor e Empilhamento- STA13.png\t\t    Perfil das Fun\u00e7\u00f5es do Receptor - NE - Perfil 1.png\r\n",
        "Fun\u00e7\u00f5es do Receptor e Empilhamento- STA14.png\t\t    Perfil das Fun\u00e7\u00f5es do Receptor - NW - Perfil 1.png\r\n",
        "Fun\u00e7\u00f5es do Receptor e Empilhamento- STA15.png\t\t    Perfil das Fun\u00e7\u00f5es do Receptor - SE - Perfil 1.png\r\n",
        "Fun\u00e7\u00f5es do Receptor e Empilhamento- STA16.png\t\t    Perfil das Fun\u00e7\u00f5es do Receptor - SW - Perfil 1.png\r\n",
        "Fun\u00e7\u00f5es do Receptor e Empilhamento - SW - STA01.png\t    plotagem_funcao_receptor.ipynb\r\n",
        "Fun\u00e7\u00f5es do Receptor e Empilhamento - SW - STA02.png\t    plotagem_perfil_estacoes.ipynb\r\n",
        "Fun\u00e7\u00f5es do Receptor e Empilhamento - SW - STA03.png\t    README.md\r\n",
        "Fun\u00e7\u00f5es do Receptor e Empilhamento - SW - STA04.png\t    Salvando_picks.ipynb\r\n",
        "Fun\u00e7\u00f5es do Receptor e Empilhamento - SW - STA05.png\t    SEstack_perfil1.asc\r\n",
        "Fun\u00e7\u00f5es do Receptor e Empilhamento - SW - STA06.png\t    SEstackSTA01.txt\r\n",
        "Fun\u00e7\u00f5es do Receptor e Empilhamento - SW - STA07.png\t    SEstackSTA02.txt\r\n",
        "Fun\u00e7\u00f5es do Receptor e Empilhamento - SW - STA08.png\t    SEstackSTA05.txt\r\n",
        "Fun\u00e7\u00f5es do Receptor e Empilhamento - SW - STA09.png\t    SEstackSTA07.txt\r\n",
        "Fun\u00e7\u00f5es do Receptor e Empilhamento - SW - STA10.png\t    SEstackSTA08.txt\r\n",
        "Fun\u00e7\u00f5es do Receptor e Empilhamento - SW - STA11.png\t    SEstackSTA09.txt\r\n",
        "Fun\u00e7\u00f5es do Receptor e Empilhamento - SW - STA12.png\t    SWstack_perfil1.asc\r\n",
        "Fun\u00e7\u00f5es do Receptor e Empilhamento - SW - STA13.png\t    SWstackSTA01.txt\r\n",
        "Fun\u00e7\u00f5es do Receptor e Empilhamento - SW - STA14.png\t    SWstackSTA02.txt\r\n",
        "Fun\u00e7\u00f5es do Receptor e Empilhamento - SW - STA16.png\t    SWstackSTA03.txt\r\n",
        "Fun\u00e7\u00f5es do Receptor Normalizadas e Empilhamento- STA01.png  SWstackSTA04.txt\r\n",
        "Fun\u00e7\u00f5es do Receptor Normalizadas e Empilhamento- STA02.png  SWstackSTA05.txt\r\n",
        "Fun\u00e7\u00f5es do Receptor Normalizadas e Empilhamento- STA03.png  SWstackSTA06.txt\r\n",
        "Fun\u00e7\u00f5es do Receptor Normalizadas e Empilhamento- STA04.png  SWstackSTA07.txt\r\n",
        "Fun\u00e7\u00f5es do Receptor Normalizadas e Empilhamento- STA05.png  SWstackSTA08.txt\r\n",
        "Fun\u00e7\u00f5es do Receptor Normalizadas e Empilhamento- STA06.png  SWstackSTA09.txt\r\n"
       ]
      }
     ],
     "prompt_number": 41
    },
    {
     "cell_type": "code",
     "collapsed": false,
     "input": [],
     "language": "python",
     "metadata": {},
     "outputs": []
    }
   ],
   "metadata": {}
  }
 ]
}