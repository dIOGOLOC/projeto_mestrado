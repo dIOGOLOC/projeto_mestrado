{
 "metadata": {
  "name": ""
 },
 "nbformat": 3,
 "nbformat_minor": 0,
 "worksheets": [
  {
   "cells": [
    {
     "cell_type": "markdown",
     "metadata": {},
     "source": [
      "<h1>Script para plotar perfis verticais das fun\u00e7\u00f5es do Receptor</h1>\n",
      "\n",
      "<h3>O principal m\u00f3dulo utilizado \u00e9 o obspy.\n",
      "O m\u00f3dulo pyplot \u00e9 para plotar os dados e o m\u00f3dulos gridspec para configurar o grid do plot.</h3>"
     ]
    },
    {
     "cell_type": "code",
     "collapsed": false,
     "input": [
      "%pylab inline"
     ],
     "language": "python",
     "metadata": {},
     "outputs": [
      {
       "output_type": "stream",
       "stream": "stdout",
       "text": [
        "Populating the interactive namespace from numpy and matplotlib\n"
       ]
      }
     ],
     "prompt_number": 1
    },
    {
     "cell_type": "code",
     "collapsed": false,
     "input": [
      "from __future__ import print_function\n",
      "import numpy as np\n",
      "import matplotlib.pyplot as plt\n",
      "import obspy\n",
      "from obspy import Trace\n",
      "import os\n",
      "import shutil\n",
      "import matplotlib.gridspec as gridspec"
     ],
     "language": "python",
     "metadata": {},
     "outputs": [],
     "prompt_number": 2
    },
    {
     "cell_type": "markdown",
     "metadata": {},
     "source": [
      "<h3>Escolha das esta\u00e7\u00f5es para plotar o perfil das fun\u00e7\u00f5es do Receptor</h3>"
     ]
    },
    {
     "cell_type": "code",
     "collapsed": false,
     "input": [
      "perfil1 = np.array(['STA02','STA01','STA07','STA03','STA04','STA05','STA09','STA08','STA06'])\n",
      "perfil2 = np.array(['STA10','STA11','STA12','STA13','STA14','STA15','STA16'])"
     ],
     "language": "python",
     "metadata": {},
     "outputs": [],
     "prompt_number": 3
    },
    {
     "cell_type": "markdown",
     "metadata": {},
     "source": [
      "<h4>Copiando os dados das esta\u00e7\u00f5es de cada grupo de eventos para plotar o perfil das fun\u00e7\u00f5es do Receptor</h4>"
     ]
    },
    {
     "cell_type": "code",
     "collapsed": false,
     "input": [
      "RFlist = []\n",
      "RFname = []\n",
      "for i in perfil1:\n",
      "    for root, dirs, files in os.walk('/home/diogo/projeto/process/'+i+'/stack/'):\n",
      "        for RFfile in files:\n",
      "            if RFfile.endswith('.txt'):\n",
      "                RFlist.append(os.path.join(root, RFfile))"
     ],
     "language": "python",
     "metadata": {},
     "outputs": [],
     "prompt_number": 4
    },
    {
     "cell_type": "code",
     "collapsed": false,
     "input": [
      "RFname=[i.split('/home/diogo/projeto/process/') for i in RFlist]\n",
      "RFname=[i.split('/stack/')[1] for i in RFlist]"
     ],
     "language": "python",
     "metadata": {},
     "outputs": [],
     "prompt_number": 5
    },
    {
     "cell_type": "code",
     "collapsed": false,
     "input": [
      "for i in xrange(len(RFname)):\n",
      "    shutil.copyfile(RFlist[i],'/home/diogo/projeto_mestrado/' + RFname[i])"
     ],
     "language": "python",
     "metadata": {},
     "outputs": [],
     "prompt_number": 67
    },
    {
     "cell_type": "markdown",
     "metadata": {},
     "source": [
      "<h4>Carregando os dados das esta\u00e7\u00f5es de cada grupo de eventos para plotar o perfil das fun\u00e7\u00f5es do Receptor</h4>"
     ]
    },
    {
     "cell_type": "code",
     "collapsed": false,
     "input": [
      "list = np.array([RFname])\n",
      "list = list[0]\n",
      "\n",
      "NElist = [i for i in list if i.startswith('NE')]\n",
      "print(NElist)\n",
      "SElist = [i for i in list if i.startswith('SE')]\n",
      "print(SElist)\n",
      "SWlist = [i for i in list if i.startswith('SW')]\n",
      "print(SWlist)\n",
      "NWlist = [i for i in list if i.startswith('NW')]\n",
      "print(NWlist)"
     ],
     "language": "python",
     "metadata": {},
     "outputs": [
      {
       "output_type": "stream",
       "stream": "stdout",
       "text": [
        "['NEstackSTA08.txt']\n",
        "['SEstackSTA02.txt', 'SEstackSTA01.txt', 'SEstackSTA07.txt', 'SEstackSTA05.txt', 'SEstackSTA09.txt', 'SEstackSTA08.txt']\n",
        "['SWstackSTA02.txt', 'SWstackSTA01.txt', 'SWstackSTA07.txt', 'SWstackSTA03.txt', 'SWstackSTA04.txt', 'SWstackSTA05.txt', 'SWstackSTA09.txt', 'SWstackSTA08.txt', 'SWstackSTA06.txt']\n",
        "['NWstackSTA02.txt', 'NWstackSTA01.txt', 'NWstackSTA07.txt', 'NWstackSTA03.txt', 'NWstackSTA04.txt', 'NWstackSTA05.txt', 'NWstackSTA09.txt', 'NWstackSTA08.txt', 'NWstackSTA06.txt']\n"
       ]
      }
     ],
     "prompt_number": 6
    },
    {
     "cell_type": "code",
     "collapsed": false,
     "input": [
      "NEgroup_stack = []\n",
      "NEgroup_time = []\n",
      "\n",
      "NEgroup_stack[k::] = [np.genfromtxt('/home/diogo/projeto_mestrado/'+i, delimiter=',')[0] for k,i in enumerate(NElist)]\n",
      "NEgroup_time[k::] = [np.genfromtxt('/home/diogo/projeto_mestrado/'+i, delimiter=',')[1] for k,i in enumerate(NElist)]\n",
      "\n",
      "SEgroup_stack = []\n",
      "SEgroup_time = []\n",
      "\n",
      "SEgroup_stack[k::] = [np.genfromtxt('/home/diogo/projeto_mestrado/'+i, delimiter=',')[0] for k,i in enumerate(SElist)]\n",
      "SEgroup_time[k::] = [np.genfromtxt('/home/diogo/projeto_mestrado/'+i, delimiter=',')[1] for k,i in enumerate(SElist)]\n",
      "\n",
      "\n",
      "SWgroup_stack = []\n",
      "SWgroup_time = []\n",
      "\n",
      "SWgroup_stack[k::] = [np.genfromtxt('/home/diogo/projeto_mestrado/'+i, delimiter=',')[0] for k,i in enumerate(SWlist)]\n",
      "SWgroup_time[k::] = [np.genfromtxt('/home/diogo/projeto_mestrado/'+i, delimiter=',')[1] for k,i in enumerate(SWlist)]\n",
      "\n",
      "NWgroup_stack = []\n",
      "NWgroup_time = []\n",
      "\n",
      "NWgroup_stack[k::] = [np.genfromtxt('/home/diogo/projeto_mestrado/'+i, delimiter=',')[0] for k,i in enumerate(NWlist)]\n",
      "NWgroup_time[k::] = [np.genfromtxt('/home/diogo/projeto_mestrado/'+i, delimiter=',')[1] for k,i in enumerate(NWlist)]"
     ],
     "language": "python",
     "metadata": {},
     "outputs": [],
     "prompt_number": 22
    },
    {
     "cell_type": "code",
     "collapsed": false,
     "input": [
      "NEgroup_stack"
     ],
     "language": "python",
     "metadata": {},
     "outputs": [
      {
       "metadata": {},
       "output_type": "pyout",
       "prompt_number": 24,
       "text": [
        "[array([ -4.05775173e-08,   3.38145870e-09,  -4.73404463e-08, ...,\n",
        "         7.10284327e-03,  -3.44876831e-03,  -1.43438570e-02])]"
       ]
      }
     ],
     "prompt_number": 24
    },
    {
     "cell_type": "code",
     "collapsed": false,
     "input": [
      "NEgroup_time"
     ],
     "language": "python",
     "metadata": {},
     "outputs": [
      {
       "metadata": {},
       "output_type": "pyout",
       "prompt_number": 25,
       "text": [
        "[array([  0.00000000e+00,   2.50000000e-02,   5.00000000e-02, ...,\n",
        "         2.55250000e+01,   2.55500000e+01,   2.55750000e+01])]"
       ]
      }
     ],
     "prompt_number": 25
    },
    {
     "cell_type": "code",
     "collapsed": false,
     "input": [],
     "language": "python",
     "metadata": {},
     "outputs": []
    }
   ],
   "metadata": {}
  }
 ]
}