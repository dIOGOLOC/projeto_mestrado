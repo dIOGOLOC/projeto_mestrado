{
 "metadata": {
  "name": ""
 },
 "nbformat": 3,
 "nbformat_minor": 0,
 "worksheets": [
  {
   "cells": [
    {
     "cell_type": "code",
     "collapsed": false,
     "input": [
      "%pylab inline"
     ],
     "language": "python",
     "metadata": {},
     "outputs": [],
     "prompt_number": "*"
    },
    {
     "cell_type": "code",
     "collapsed": false,
     "input": [
      "from __future__ import print_function\n",
      "import numpy as np\n",
      "import matplotlib.pyplot as plt\n",
      "import obspy\n",
      "import obspy.signal\n",
      "import scipy as sci"
     ],
     "language": "python",
     "metadata": {},
     "outputs": [],
     "prompt_number": "*"
    },
    {
     "cell_type": "code",
     "collapsed": false,
     "input": [
      "Z=obspy.read('/home/diogo/projeto/process/STA01/selecionados/gcarc_20_95/2012_03_20_18_02_47_440/ON.STA01..HHZ.2012_03_20_18_02_47_440.sac', format='SAC')\n",
      "E=obspy.read('/home/diogo/projeto/process/STA01/selecionados/gcarc_20_95/2012_03_20_18_02_47_440/ON.STA01..HHE.2012_03_20_18_02_47_440.sac', format='SAC')\n",
      "N=obspy.read('/home/diogo/projeto/process/STA01/selecionados/gcarc_20_95/2012_03_20_18_02_47_440/ON.STA01..HHN.2012_03_20_18_02_47_440.sac', format='SAC')"
     ],
     "language": "python",
     "metadata": {},
     "outputs": [],
     "prompt_number": "*"
    },
    {
     "cell_type": "code",
     "collapsed": false,
     "input": [
      "FR=sci.signal.correlate(Z,E)"
     ],
     "language": "python",
     "metadata": {},
     "outputs": [],
     "prompt_number": "*"
    },
    {
     "cell_type": "code",
     "collapsed": false,
     "input": [
      "print(FR)"
     ],
     "language": "python",
     "metadata": {},
     "outputs": [],
     "prompt_number": "*"
    },
    {
     "cell_type": "code",
     "collapsed": false,
     "input": [
      "for i, FR in enumerate(FR):\n",
      "    plt.plot(FR.times(), i*0.0005+FR.data)"
     ],
     "language": "python",
     "metadata": {},
     "outputs": [],
     "prompt_number": "*"
    },
    {
     "cell_type": "code",
     "collapsed": false,
     "input": [],
     "language": "python",
     "metadata": {},
     "outputs": []
    }
   ],
   "metadata": {}
  }
 ]
}