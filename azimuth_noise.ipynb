{
 "metadata": {
  "name": "",
  "signature": "sha256:669b6f543f4d6b4198039c63f2a96e42920c005230797c05fc4009b1053993ca"
 },
 "nbformat": 3,
 "nbformat_minor": 0,
 "worksheets": [
  {
   "cells": [
    {
     "cell_type": "code",
     "collapsed": false,
     "input": [
      "%pylab inline"
     ],
     "language": "python",
     "metadata": {},
     "outputs": [
      {
       "output_type": "stream",
       "stream": "stdout",
       "text": [
        "Populating the interactive namespace from numpy and matplotlib\n"
       ]
      }
     ],
     "prompt_number": 1
    },
    {
     "cell_type": "code",
     "collapsed": false,
     "input": [
      "from pysismo import pscrosscorr\n",
      "import glob\n",
      "import os\n",
      "import matplotlib.pyplot as plt\n",
      "from pyproj import Geod\n",
      "from collections import Counter"
     ],
     "language": "python",
     "metadata": {},
     "outputs": [],
     "prompt_number": 77
    },
    {
     "cell_type": "code",
     "collapsed": false,
     "input": [
      "# parsing configuration file to import dir of cross-corr results\n",
      "from pysismo.psconfig import CROSSCORR_DIR"
     ],
     "language": "python",
     "metadata": {},
     "outputs": [],
     "prompt_number": 3
    },
    {
     "cell_type": "code",
     "collapsed": false,
     "input": [
      "# loading cross-correlations (looking for *.pickle files in dir *CROSSCORR_DIR*)\n",
      "flist = sorted(glob.glob(os.path.join(CROSSCORR_DIR, 'xcorr*.pickle*')))\n",
      "print 'Select file(s) containing cross-correlations to process: [All except backups]'\n",
      "print '0 - All except backups (*~)'\n",
      "print '\\n'.join('{} - {}'.format(i + 1, os.path.basename(f))\n",
      "                for i, f in enumerate(flist))\n",
      "\n",
      "res = raw_input('\\n')\n",
      "if not res:\n",
      "    pickle_files = [f for f in flist if f[-1] != '~']\n",
      "else:\n",
      "    pickle_files = [flist[int(i)-1] for i in res.split()]"
     ],
     "language": "python",
     "metadata": {},
     "outputs": [
      {
       "output_type": "stream",
       "stream": "stdout",
       "text": [
        "Select file(s) containing cross-correlations to process: [All except backups]\n",
        "0 - All except backups (*~)\n",
        "1 - xcorr_2012-2013_datalesspaz.pickle\n"
       ]
      },
      {
       "name": "stdout",
       "output_type": "stream",
       "stream": "stdout",
       "text": [
        "\n",
        "1\n"
       ]
      }
     ],
     "prompt_number": 4
    },
    {
     "cell_type": "code",
     "collapsed": false,
     "input": [
      "# processing each set of cross-correlations\n",
      "for pickle_file in pickle_files:\n",
      "    print \"\\nProcessing cross-correlations of file: \" + pickle_file\n",
      "    xc = pscrosscorr.load_pickled_xcorr(pickle_file)\n",
      "\n",
      "    # copying the suffix of cross-correlations file\n",
      "    # (everything between 'xcorr_' and the extension)\n",
      "    suffix = os.path.splitext(os.path.basename(pickle_file))[0].replace('xcorr_', '')\n",
      "\n",
      "    # Performing the two-step FTAN, exporting the figures to a\n",
      "    # pdf file (one page per cross-correlation) and the clean\n",
      "    # dispersion curves to a binary file using module pickle.\n",
      "    #\n",
      "    # The file are saved in dir *FTAN_DIR* (defined in configuration file) as:\n",
      "    # <prefix>_<suffix>.pdf and <prefix>_<suffix>.pickle\n",
      "    # You can specify *prefix* as input argument in FTANs(), or leave\n",
      "    # the function define a default prefix, which will look like:\n",
      "    # FTAN[_whitenedxc][_mindist=...][_minsSNR=...][_minspectSNR=...] ...\n",
      "    # [_month-year_month-year]\n",
      "    #\n",
      "    # Set whiten=True to whiten the spectrum of the cross-correlations\n",
      "    # (default is False)\n",
      "    # Set normalize_ampl=True to normalize FTAN amplitude in plots, so\n",
      "    # that the max amplitude = 1 at each period (default is True)\n",
      "    # Set logscale=True to plot log(amplitude^2) instead of amplitude\n",
      "    # (default is True)\n",
      "    #\n",
      "    # See other options in the docstring of the function."
     ],
     "language": "python",
     "metadata": {},
     "outputs": [
      {
       "output_type": "stream",
       "stream": "stdout",
       "text": [
        "\n",
        "Processing cross-correlations of file: /home/diogo/Cross-correlation/Cross-correlation/xcorr_2012-2013_datalesspaz.pickle\n"
       ]
      }
     ],
     "prompt_number": 5
    },
    {
     "cell_type": "code",
     "collapsed": false,
     "input": [
      "plt.plot(xc.BSCB.ESAR.timearray,xc.BSCB.ESAR.dataarray)"
     ],
     "language": "python",
     "metadata": {},
     "outputs": [
      {
       "metadata": {},
       "output_type": "pyout",
       "prompt_number": 6,
       "text": [
        "[<matplotlib.lines.Line2D at 0x7feb77208e90>]"
       ]
      },
      {
       "metadata": {},
       "output_type": "display_data",
       "png": "[encoded data removed]",
       "text": [
        "<matplotlib.figure.Figure at 0x7feb836b2450>"
       ]
      }
     ],
     "prompt_number": 6
    },
    {
     "cell_type": "code",
     "collapsed": false,
     "input": [],
     "language": "python",
     "metadata": {},
     "outputs": [],
     "prompt_number": 155
    },
    {
     "cell_type": "code",
     "collapsed": false,
     "input": [
      "tam = size(xc.BSCB.ESAR.dataarray)"
     ],
     "language": "python",
     "metadata": {},
     "outputs": [],
     "prompt_number": 9
    },
    {
     "cell_type": "code",
     "collapsed": false,
     "input": [
      "posi = max(xc.BSCB.ESAR.dataarray[0:tam/2])"
     ],
     "language": "python",
     "metadata": {},
     "outputs": [],
     "prompt_number": 10
    },
    {
     "cell_type": "code",
     "collapsed": false,
     "input": [
      "nega = max(xc.BSCB.ESAR.dataarray[tam/2:tam])"
     ],
     "language": "python",
     "metadata": {},
     "outputs": [],
     "prompt_number": 11
    },
    {
     "cell_type": "code",
     "collapsed": false,
     "input": [
      "g = Geod(ellps='WGS84')\n",
      "lat1 = (xc.BSCB.ESAR.station1.coord)[0]\n",
      "long1 = (xc.BSCB.ESAR.station1.coord)[1]\n",
      "print(long1)"
     ],
     "language": "python",
     "metadata": {},
     "outputs": [
      {
       "output_type": "stream",
       "stream": "stdout",
       "text": [
        "-20.9984\n"
       ]
      }
     ],
     "prompt_number": 12
    },
    {
     "cell_type": "code",
     "collapsed": false,
     "input": [
      "lat2 = (xc.BSCB.ESAR.station2.coord)[0]\n",
      "long2 = (xc.BSCB.ESAR.station2.coord)[1]"
     ],
     "language": "python",
     "metadata": {},
     "outputs": [],
     "prompt_number": 13
    },
    {
     "cell_type": "code",
     "collapsed": false,
     "input": [
      "faz,baz,dist = g.inv(long1,lat1,long2,lat2)\n",
      "\"%7.3f %6.3f %12.3f\" % (faz,baz,dist)"
     ],
     "language": "python",
     "metadata": {},
     "outputs": [
      {
       "metadata": {},
       "output_type": "pyout",
       "prompt_number": 14,
       "text": [
        "'-77.898 103.522   164597.957'"
       ]
      }
     ],
     "prompt_number": 14
    },
    {
     "cell_type": "code",
     "collapsed": false,
     "input": [
      "size_pares = (len(xc.pairs(sort=True)))\n",
      "print(size_pares)"
     ],
     "language": "python",
     "metadata": {},
     "outputs": [
      {
       "output_type": "stream",
       "stream": "stdout",
       "text": [
        "455\n"
       ]
      }
     ],
     "prompt_number": 15
    },
    {
     "cell_type": "code",
     "collapsed": false,
     "input": [
      "pares = ([i for i in xc.pairs(sort=True)])\n",
      "pares.count(pares[0])"
     ],
     "language": "python",
     "metadata": {},
     "outputs": [
      {
       "metadata": {},
       "output_type": "pyout",
       "prompt_number": 96,
       "text": [
        "1"
       ]
      }
     ],
     "prompt_number": 96
    },
    {
     "cell_type": "code",
     "collapsed": false,
     "input": [
      "pares_sel = filter(lambda x: 'BSCB' in x, pares)"
     ],
     "language": "python",
     "metadata": {},
     "outputs": [],
     "prompt_number": 17
    },
    {
     "cell_type": "code",
     "collapsed": false,
     "input": [
      "pares_sel = filter(lambda x: str(pares[0][0]) in x, pares)\n",
      "pares_sel"
     ],
     "language": "python",
     "metadata": {},
     "outputs": [
      {
       "metadata": {},
       "output_type": "pyout",
       "prompt_number": 110,
       "text": [
        "[('BSCB', 'ESAR'),\n",
        " ('BSCB', 'MAN01'),\n",
        " ('BSCB', 'PARB'),\n",
        " ('BSCB', 'PET01'),\n",
        " ('BSCB', 'RCLB'),\n",
        " ('BSCB', 'SLP01'),\n",
        " ('BSCB', 'STA01'),\n",
        " ('BSCB', 'STA02'),\n",
        " ('BSCB', 'STA03'),\n",
        " ('BSCB', 'STA04'),\n",
        " ('BSCB', 'STA05'),\n",
        " ('BSCB', 'STA06'),\n",
        " ('BSCB', 'STA07'),\n",
        " ('BSCB', 'STA08'),\n",
        " ('BSCB', 'STA09'),\n",
        " ('BSCB', 'STA10'),\n",
        " ('BSCB', 'STA11'),\n",
        " ('BSCB', 'STA12'),\n",
        " ('BSCB', 'STA13'),\n",
        " ('BSCB', 'STA14'),\n",
        " ('BSCB', 'STA15'),\n",
        " ('BSCB', 'STA16'),\n",
        " ('BSCB', 'STA17'),\n",
        " ('BSCB', 'STA18'),\n",
        " ('BSCB', 'STA19'),\n",
        " ('BSCB', 'STA20'),\n",
        " ('BSCB', 'STA21'),\n",
        " ('BSCB', 'STA23'),\n",
        " ('BSCB', 'STA24'),\n",
        " ('BSCB', 'VAS01')]"
       ]
      }
     ],
     "prompt_number": 110
    },
    {
     "cell_type": "code",
     "collapsed": false,
     "input": [
      "pares_sel = ([pares_sel[i][1] for i in xrange(len(pares_sel))])\n",
      "print(pares_sel)"
     ],
     "language": "python",
     "metadata": {},
     "outputs": [
      {
       "output_type": "stream",
       "stream": "stdout",
       "text": [
        "['ESAR', 'MAN01', 'PARB', 'PET01', 'RCLB', 'SLP01', 'STA01', 'STA02', 'STA03', 'STA04', 'STA05', 'STA06', 'STA07', 'STA08', 'STA09', 'STA10', 'STA11', 'STA12', 'STA13', 'STA14', 'STA15', 'STA16', 'STA17', 'STA18', 'STA19', 'STA20', 'STA21', 'STA23', 'STA24', 'VAS01']\n"
       ]
      }
     ],
     "prompt_number": 112
    },
    {
     "cell_type": "code",
     "collapsed": false,
     "input": [
      "for i,j in enumerate(pares_sel):\n",
      "    posi = max(xc.BSCB.int(j).dataarray[0:tam/2])\n",
      "    nega = max(xc.BSCB.+j+.dataarray[tam/2:tam])\n",
      "    lat1 = (xc.BSCB.+j+.station1.coord)[0]\n",
      "    long1 = (xc.BSCB.+j+.station1.coord)[1]\n",
      "    lat2 = (xc.BSCB.+j+.station2.coord)[0]\n",
      "    long2 = (xc.BSCB.+j+.station2.coord)[1]\n",
      "    faz,baz,dist = g.inv(long1,lat1,long2,lat2)\n",
      "    if posi > nega:\n",
      "        noise_azimuth[i] = faz\n",
      "    else:\n",
      "        noise_azimuth[i] = baz"
     ],
     "language": "python",
     "metadata": {},
     "outputs": [
      {
       "ename": "SyntaxError",
       "evalue": "invalid syntax (<ipython-input-167-1b6165c5e2e8>, line 2)",
       "output_type": "pyerr",
       "traceback": [
        "\u001b[1;36m  File \u001b[1;32m\"<ipython-input-167-1b6165c5e2e8>\"\u001b[1;36m, line \u001b[1;32m2\u001b[0m\n\u001b[1;33m    posi = max(xc.BSCB.+j+.dataarray[0:tam/2])\u001b[0m\n\u001b[1;37m                       ^\u001b[0m\n\u001b[1;31mSyntaxError\u001b[0m\u001b[1;31m:\u001b[0m invalid syntax\n"
       ]
      }
     ],
     "prompt_number": 167
    },
    {
     "cell_type": "code",
     "collapsed": false,
     "input": [
      "nome = []\n",
      "for i,j in enumerate(pares_sel):\n",
      "    nome.append('xc.BSCB.'+j+'.dataarray[0:len(xc.BSCB.'+j+'.dataarray)/2]')\n",
      "nome"
     ],
     "language": "python",
     "metadata": {},
     "outputs": [
      {
       "metadata": {},
       "output_type": "pyout",
       "prompt_number": 113,
       "text": [
        "['xc.BSCB.ESAR.dataarray[0:len(xc.BSCB.ESAR.dataarray)/2]',\n",
        " 'xc.BSCB.MAN01.dataarray[0:len(xc.BSCB.MAN01.dataarray)/2]',\n",
        " 'xc.BSCB.PARB.dataarray[0:len(xc.BSCB.PARB.dataarray)/2]',\n",
        " 'xc.BSCB.PET01.dataarray[0:len(xc.BSCB.PET01.dataarray)/2]',\n",
        " 'xc.BSCB.RCLB.dataarray[0:len(xc.BSCB.RCLB.dataarray)/2]',\n",
        " 'xc.BSCB.SLP01.dataarray[0:len(xc.BSCB.SLP01.dataarray)/2]',\n",
        " 'xc.BSCB.STA01.dataarray[0:len(xc.BSCB.STA01.dataarray)/2]',\n",
        " 'xc.BSCB.STA02.dataarray[0:len(xc.BSCB.STA02.dataarray)/2]',\n",
        " 'xc.BSCB.STA03.dataarray[0:len(xc.BSCB.STA03.dataarray)/2]',\n",
        " 'xc.BSCB.STA04.dataarray[0:len(xc.BSCB.STA04.dataarray)/2]',\n",
        " 'xc.BSCB.STA05.dataarray[0:len(xc.BSCB.STA05.dataarray)/2]',\n",
        " 'xc.BSCB.STA06.dataarray[0:len(xc.BSCB.STA06.dataarray)/2]',\n",
        " 'xc.BSCB.STA07.dataarray[0:len(xc.BSCB.STA07.dataarray)/2]',\n",
        " 'xc.BSCB.STA08.dataarray[0:len(xc.BSCB.STA08.dataarray)/2]',\n",
        " 'xc.BSCB.STA09.dataarray[0:len(xc.BSCB.STA09.dataarray)/2]',\n",
        " 'xc.BSCB.STA10.dataarray[0:len(xc.BSCB.STA10.dataarray)/2]',\n",
        " 'xc.BSCB.STA11.dataarray[0:len(xc.BSCB.STA11.dataarray)/2]',\n",
        " 'xc.BSCB.STA12.dataarray[0:len(xc.BSCB.STA12.dataarray)/2]',\n",
        " 'xc.BSCB.STA13.dataarray[0:len(xc.BSCB.STA13.dataarray)/2]',\n",
        " 'xc.BSCB.STA14.dataarray[0:len(xc.BSCB.STA14.dataarray)/2]',\n",
        " 'xc.BSCB.STA15.dataarray[0:len(xc.BSCB.STA15.dataarray)/2]',\n",
        " 'xc.BSCB.STA16.dataarray[0:len(xc.BSCB.STA16.dataarray)/2]',\n",
        " 'xc.BSCB.STA17.dataarray[0:len(xc.BSCB.STA17.dataarray)/2]',\n",
        " 'xc.BSCB.STA18.dataarray[0:len(xc.BSCB.STA18.dataarray)/2]',\n",
        " 'xc.BSCB.STA19.dataarray[0:len(xc.BSCB.STA19.dataarray)/2]',\n",
        " 'xc.BSCB.STA20.dataarray[0:len(xc.BSCB.STA20.dataarray)/2]',\n",
        " 'xc.BSCB.STA21.dataarray[0:len(xc.BSCB.STA21.dataarray)/2]',\n",
        " 'xc.BSCB.STA23.dataarray[0:len(xc.BSCB.STA23.dataarray)/2]',\n",
        " 'xc.BSCB.STA24.dataarray[0:len(xc.BSCB.STA24.dataarray)/2]',\n",
        " 'xc.BSCB.VAS01.dataarray[0:len(xc.BSCB.VAS01.dataarray)/2]']"
       ]
      }
     ],
     "prompt_number": 113
    },
    {
     "cell_type": "code",
     "collapsed": false,
     "input": [
      "data = {'dados':[],'pares':[],'par_sel':[],'pares_sel':[],'nome':[],'dataP':[],'dataN':[],'lat1':[],'long1':[],'lat2':[],'long2':[],'faz':[],'baz':[],'dist': [],'noise_azimuth':[]}"
     ],
     "language": "python",
     "metadata": {},
     "outputs": [],
     "prompt_number": 173
    },
    {
     "cell_type": "code",
     "collapsed": false,
     "input": [
      "data['dados'] = pscrosscorr.load_pickled_xcorr('/home/diogo/Cross-correlation/Cross-correlation/xcorr_2012-2013_datalesspaz.pickle')\n",
      "data['pares'] = [i for i in data['dados'].pairs(sort=True)]\n",
      "data['par_sel'] = filter(lambda x: str(data['pares'][0][0]) in x, pares)\n",
      "data['pares_sel'] = [pares_sel[i] for i in xrange(len(pares_sel))]\n",
      "for i,j in enumerate(data['pares_sel']):\n",
      "    data['nome'].append('data[''dados''].BSCB.'+j+'.dataarray[0:len(data[''dados''].BSCB.'+j+'.dataarray)/2]')\n",
      "for i,j in enumerate(data['nome']):\n",
      "    data['dataP'] = eval(j)\n",
      "#data['dataP'][i] = j[i]\n",
      "'''data['dataN'] = \n",
      "data['dataN'] =  \n",
      "for i,j in enumerate(data['pares_sel']):\n",
      "    data['nome'].append('data[''dados''].BSCB.'+j+'.dataarray[0:len(data[''dados''].BSCB.'+j+'.dataarray)/2]')\n",
      "data['lat1']:\n",
      "data['lat1']:    \n",
      "data['long1']:    \n",
      "data['long1']:    \n",
      "data['lat2']:    \n",
      "data['lat2']:    \n",
      "data['long2']:    \n",
      "data['long2']:    \n",
      "data['faz']:    \n",
      "data['faz']:    \n",
      "data['baz']:    \n",
      "data['baz']:    \n",
      "data['dist']:    \n",
      "data['dist']:    \n",
      "data['noise_azimuth']:\n",
      "data['noise_azimuth']:'''\n"
     ],
     "language": "python",
     "metadata": {},
     "outputs": [
      {
       "ename": "NameError",
       "evalue": "name 'dados' is not defined",
       "output_type": "pyerr",
       "traceback": [
        "\u001b[1;31m---------------------------------------------------------------------------\u001b[0m\n\u001b[1;31mNameError\u001b[0m                                 Traceback (most recent call last)",
        "\u001b[1;32m<ipython-input-174-fc785ac16d36>\u001b[0m in \u001b[0;36m<module>\u001b[1;34m()\u001b[0m\n\u001b[0;32m      6\u001b[0m     \u001b[0mdata\u001b[0m\u001b[1;33m[\u001b[0m\u001b[1;34m'nome'\u001b[0m\u001b[1;33m]\u001b[0m\u001b[1;33m.\u001b[0m\u001b[0mappend\u001b[0m\u001b[1;33m(\u001b[0m\u001b[1;34m'data['\u001b[0m\u001b[1;34m'dados'\u001b[0m\u001b[1;34m'].BSCB.'\u001b[0m\u001b[1;33m+\u001b[0m\u001b[0mj\u001b[0m\u001b[1;33m+\u001b[0m\u001b[1;34m'.dataarray[0:len(data['\u001b[0m\u001b[1;34m'dados'\u001b[0m\u001b[1;34m'].BSCB.'\u001b[0m\u001b[1;33m+\u001b[0m\u001b[0mj\u001b[0m\u001b[1;33m+\u001b[0m\u001b[1;34m'.dataarray)/2]'\u001b[0m\u001b[1;33m)\u001b[0m\u001b[1;33m\u001b[0m\u001b[0m\n\u001b[0;32m      7\u001b[0m \u001b[1;32mfor\u001b[0m \u001b[0mi\u001b[0m\u001b[1;33m,\u001b[0m\u001b[0mj\u001b[0m \u001b[1;32min\u001b[0m \u001b[0menumerate\u001b[0m\u001b[1;33m(\u001b[0m\u001b[0mdata\u001b[0m\u001b[1;33m[\u001b[0m\u001b[1;34m'nome'\u001b[0m\u001b[1;33m]\u001b[0m\u001b[1;33m)\u001b[0m\u001b[1;33m:\u001b[0m\u001b[1;33m\u001b[0m\u001b[0m\n\u001b[1;32m----> 8\u001b[1;33m     \u001b[0mdata\u001b[0m\u001b[1;33m[\u001b[0m\u001b[1;34m'dataP'\u001b[0m\u001b[1;33m]\u001b[0m \u001b[1;33m=\u001b[0m \u001b[0meval\u001b[0m\u001b[1;33m(\u001b[0m\u001b[0mj\u001b[0m\u001b[1;33m)\u001b[0m\u001b[1;33m\u001b[0m\u001b[0m\n\u001b[0m\u001b[0;32m      9\u001b[0m \u001b[1;31m#data['dataP'][i] = j[i]\u001b[0m\u001b[1;33m\u001b[0m\u001b[1;33m\u001b[0m\u001b[0m\n\u001b[0;32m     10\u001b[0m '''data['dataN'] = \n",
        "\u001b[1;32m<string>\u001b[0m in \u001b[0;36m<module>\u001b[1;34m()\u001b[0m\n",
        "\u001b[1;31mNameError\u001b[0m: name 'dados' is not defined"
       ]
      }
     ],
     "prompt_number": 174
    },
    {
     "cell_type": "code",
     "collapsed": false,
     "input": [
      "data['nome']"
     ],
     "language": "python",
     "metadata": {},
     "outputs": [
      {
       "metadata": {},
       "output_type": "pyout",
       "prompt_number": 175,
       "text": [
        "['data[dados].BSCB.ESAR.dataarray[0:len(data[dados].BSCB.ESAR.dataarray)/2]',\n",
        " 'data[dados].BSCB.MAN01.dataarray[0:len(data[dados].BSCB.MAN01.dataarray)/2]',\n",
        " 'data[dados].BSCB.PARB.dataarray[0:len(data[dados].BSCB.PARB.dataarray)/2]',\n",
        " 'data[dados].BSCB.PET01.dataarray[0:len(data[dados].BSCB.PET01.dataarray)/2]',\n",
        " 'data[dados].BSCB.RCLB.dataarray[0:len(data[dados].BSCB.RCLB.dataarray)/2]',\n",
        " 'data[dados].BSCB.SLP01.dataarray[0:len(data[dados].BSCB.SLP01.dataarray)/2]',\n",
        " 'data[dados].BSCB.STA01.dataarray[0:len(data[dados].BSCB.STA01.dataarray)/2]',\n",
        " 'data[dados].BSCB.STA02.dataarray[0:len(data[dados].BSCB.STA02.dataarray)/2]',\n",
        " 'data[dados].BSCB.STA03.dataarray[0:len(data[dados].BSCB.STA03.dataarray)/2]',\n",
        " 'data[dados].BSCB.STA04.dataarray[0:len(data[dados].BSCB.STA04.dataarray)/2]',\n",
        " 'data[dados].BSCB.STA05.dataarray[0:len(data[dados].BSCB.STA05.dataarray)/2]',\n",
        " 'data[dados].BSCB.STA06.dataarray[0:len(data[dados].BSCB.STA06.dataarray)/2]',\n",
        " 'data[dados].BSCB.STA07.dataarray[0:len(data[dados].BSCB.STA07.dataarray)/2]',\n",
        " 'data[dados].BSCB.STA08.dataarray[0:len(data[dados].BSCB.STA08.dataarray)/2]',\n",
        " 'data[dados].BSCB.STA09.dataarray[0:len(data[dados].BSCB.STA09.dataarray)/2]',\n",
        " 'data[dados].BSCB.STA10.dataarray[0:len(data[dados].BSCB.STA10.dataarray)/2]',\n",
        " 'data[dados].BSCB.STA11.dataarray[0:len(data[dados].BSCB.STA11.dataarray)/2]',\n",
        " 'data[dados].BSCB.STA12.dataarray[0:len(data[dados].BSCB.STA12.dataarray)/2]',\n",
        " 'data[dados].BSCB.STA13.dataarray[0:len(data[dados].BSCB.STA13.dataarray)/2]',\n",
        " 'data[dados].BSCB.STA14.dataarray[0:len(data[dados].BSCB.STA14.dataarray)/2]',\n",
        " 'data[dados].BSCB.STA15.dataarray[0:len(data[dados].BSCB.STA15.dataarray)/2]',\n",
        " 'data[dados].BSCB.STA16.dataarray[0:len(data[dados].BSCB.STA16.dataarray)/2]',\n",
        " 'data[dados].BSCB.STA17.dataarray[0:len(data[dados].BSCB.STA17.dataarray)/2]',\n",
        " 'data[dados].BSCB.STA18.dataarray[0:len(data[dados].BSCB.STA18.dataarray)/2]',\n",
        " 'data[dados].BSCB.STA19.dataarray[0:len(data[dados].BSCB.STA19.dataarray)/2]',\n",
        " 'data[dados].BSCB.STA20.dataarray[0:len(data[dados].BSCB.STA20.dataarray)/2]',\n",
        " 'data[dados].BSCB.STA21.dataarray[0:len(data[dados].BSCB.STA21.dataarray)/2]',\n",
        " 'data[dados].BSCB.STA23.dataarray[0:len(data[dados].BSCB.STA23.dataarray)/2]',\n",
        " 'data[dados].BSCB.STA24.dataarray[0:len(data[dados].BSCB.STA24.dataarray)/2]',\n",
        " 'data[dados].BSCB.VAS01.dataarray[0:len(data[dados].BSCB.VAS01.dataarray)/2]']"
       ]
      }
     ],
     "prompt_number": 175
    },
    {
     "cell_type": "code",
     "collapsed": false,
     "input": [],
     "language": "python",
     "metadata": {},
     "outputs": []
    }
   ],
   "metadata": {}
  }
 ]
}