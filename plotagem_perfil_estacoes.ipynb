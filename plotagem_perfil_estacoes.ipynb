{
 "metadata": {
  "name": ""
 },
 "nbformat": 3,
 "nbformat_minor": 0,
 "worksheets": [
  {
   "cells": [
    {
     "cell_type": "markdown",
     "metadata": {},
     "source": [
      "<h1>Script para plotar perfis verticais das fun\u00e7\u00f5es do Receptor</h1>\n",
      "\n",
      "<h3>O principal m\u00f3dulo utilizado \u00e9 o obspy.\n",
      "O m\u00f3dulo pyplot \u00e9 para plotar os dados e o m\u00f3dulos gridspec para configurar o grid do plot.</h3>"
     ]
    },
    {
     "cell_type": "code",
     "collapsed": false,
     "input": [
      "%pylab inline"
     ],
     "language": "python",
     "metadata": {},
     "outputs": [
      {
       "output_type": "stream",
       "stream": "stdout",
       "text": [
        "Populating the interactive namespace from numpy and matplotlib\n"
       ]
      }
     ],
     "prompt_number": 1
    },
    {
     "cell_type": "code",
     "collapsed": false,
     "input": [
      "from __future__ import print_function\n",
      "import numpy as np\n",
      "import matplotlib.pyplot as plt\n",
      "import obspy\n",
      "from obspy import Trace\n",
      "import os\n",
      "import shutil\n",
      "import matplotlib.gridspec as gridspec"
     ],
     "language": "python",
     "metadata": {},
     "outputs": [],
     "prompt_number": 63
    },
    {
     "cell_type": "markdown",
     "metadata": {},
     "source": [
      "<h3>Escolha das esta\u00e7\u00f5es para plotar o perfil das fun\u00e7\u00f5es do Receptor</h3>"
     ]
    },
    {
     "cell_type": "code",
     "collapsed": false,
     "input": [
      "perfil1 = np.array(['STA02','STA01','STA07','STA03','STA04','STA05','STA09','STA08','STA06'])\n",
      "perfil2 = np.array(['STA10','STA11','STA12','STA13','STA14','STA15','STA16'])"
     ],
     "language": "python",
     "metadata": {},
     "outputs": [],
     "prompt_number": 64
    },
    {
     "cell_type": "markdown",
     "metadata": {},
     "source": [
      "<h4>Carregando os dados das esta\u00e7\u00f5es de cada grupo de eventos para plotar o perfil das fun\u00e7\u00f5es do Receptor</h4>"
     ]
    },
    {
     "cell_type": "code",
     "collapsed": false,
     "input": [
      "RFlist = []\n",
      "RFname = []\n",
      "for i in xrange(len(perfil1)):\n",
      "    for root, dirs, files in os.walk('/home/diogo/projeto/process/'+perfil1[i]+'/stack/'):\n",
      "        for RFfile in files:\n",
      "            if RFfile.endswith('.txt'):\n",
      "                RFlist.append(os.path.join(root, RFfile))"
     ],
     "language": "python",
     "metadata": {},
     "outputs": [],
     "prompt_number": 71
    },
    {
     "cell_type": "code",
     "collapsed": false,
     "input": [
      "RFname=[i.split('/home/diogo/projeto/process/') for i in RFlist]\n",
      "RFname=[i.split('/stack/')[1] for i in RFlist]"
     ],
     "language": "python",
     "metadata": {},
     "outputs": [],
     "prompt_number": 72
    },
    {
     "cell_type": "code",
     "collapsed": false,
     "input": [
      "for i in xrange(len(RFname)):\n",
      "    shutil.copyfile(RFlist[i],'/home/diogo/projeto_mestrado/' + RFname[i])"
     ],
     "language": "python",
     "metadata": {},
     "outputs": [],
     "prompt_number": 67
    },
    {
     "cell_type": "code",
     "collapsed": false,
     "input": [],
     "language": "python",
     "metadata": {},
     "outputs": [],
     "prompt_number": 70
    },
    {
     "cell_type": "code",
     "collapsed": false,
     "input": [],
     "language": "python",
     "metadata": {},
     "outputs": []
    }
   ],
   "metadata": {}
  }
 ]
}